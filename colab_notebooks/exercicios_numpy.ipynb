{
  "nbformat": 4,
  "nbformat_minor": 0,
  "metadata": {
    "colab": {
      "name": "exercicios_numpy.ipynb",
      "provenance": []
    },
    "kernelspec": {
      "name": "python3",
      "display_name": "Python 3"
    },
    "language_info": {
      "name": "python"
    }
  },
  "cells": [
    {
      "cell_type": "markdown",
      "metadata": {
        "id": "jDhbFS_UQ0Xv"
      },
      "source": [
        "# Exercícios NumPy"
      ]
    },
    {
      "cell_type": "code",
      "metadata": {
        "id": "Dm20SftJQ6C9"
      },
      "source": [
        "import numpy as np"
      ],
      "execution_count": null,
      "outputs": []
    },
    {
      "cell_type": "markdown",
      "metadata": {
        "id": "vP1I3uhDQ7mC"
      },
      "source": [
        "# EX01\n",
        "\n",
        "Inspecionando um Array NumPy\n",
        "\n",
        "Um objeto numpy possui atributos e métodos, herdados da classe (numpy.ndarray). Crie um array  e inspecione os seguintes atributos:\n",
        "\n",
        "shape: uma tupla que contém o número de elementos (tamanho) em cada dimensão do array;\n",
        "\n",
        "size: número total de elementos do array;\n",
        "\n",
        "ndim: número de dimensões (eixos);\n",
        "\n",
        "nbytes: número de bytes utilizado no armazenamento dos dados;\n",
        "\n",
        "dtype: data type dos elementos do array."
      ]
    },
    {
      "cell_type": "code",
      "metadata": {
        "colab": {
          "base_uri": "https://localhost:8080/"
        },
        "id": "B7LF8eWhQztq",
        "outputId": "dbe44fb7-0a9d-446a-8564-643ce4e6ccf8"
      },
      "source": [
        "array = np.array([1, 2, 3, 4, 5])\n",
        "print(f'''\n",
        "    Shape: {array.shape}\n",
        "    Size: {array.size}\n",
        "    Ndim: {array.ndim}\n",
        "    Nbytes: {array.nbytes}\n",
        "    Dtype: {array.dtype}\n",
        "\n",
        "''')"
      ],
      "execution_count": null,
      "outputs": [
        {
          "output_type": "stream",
          "text": [
            "\n",
            "    Shape: (5,)\n",
            "    Size: 5\n",
            "    Ndim: 1\n",
            "    Nbytes: 40\n",
            "    Dtype: int64\n",
            "\n",
            "\n"
          ],
          "name": "stdout"
        }
      ]
    },
    {
      "cell_type": "markdown",
      "metadata": {
        "id": "JW4JX3HpRg5p"
      },
      "source": [
        "# EX02\n",
        "\n",
        "Com base no exercício anterior crie uma função que receba um array e mostre na tela seus atributos. Verifique se o argumento inserido é de fato um objeto numpy. Use também a função built-in type() para verificar a classe do objeto."
      ]
    },
    {
      "cell_type": "code",
      "metadata": {
        "colab": {
          "base_uri": "https://localhost:8080/",
          "height": 137
        },
        "id": "2NK2ANAeRjjq",
        "outputId": "0c4dfe65-a2fb-4d36-8be3-de0375b49369"
      },
      "source": [
        "def inspecionar_array(array):\n",
        "    if isinstance(array, np.ndarray):\n",
        "        print('Shape: ', array.shape)\n",
        "        print('Size: ', array.size)\n",
        "        print('Ndim: ', array.ndim)\n",
        "        print('Nbytes: ', array.nbytes)\n",
        "        print('Dtype: ', array.dtype)\n",
        "        print('Type: ', type(array))\n",
        "    else:\n",
        "        return 'O objeto inserido não é um array NumPy.'\n",
        "\n",
        "array = np.array([1, 2, 3, 4])\n",
        "lista = [1, 2, 3, 4]\n",
        "\n",
        "inspecionar_array(array)\n",
        "inspecionar_array(lista)"
      ],
      "execution_count": null,
      "outputs": [
        {
          "output_type": "stream",
          "text": [
            "Shape:  (4,)\n",
            "Size:  4\n",
            "Ndim:  1\n",
            "Nbytes:  32\n",
            "Dtype:  int64\n",
            "Type:  <class 'numpy.ndarray'>\n"
          ],
          "name": "stdout"
        },
        {
          "output_type": "execute_result",
          "data": {
            "application/vnd.google.colaboratory.intrinsic+json": {
              "type": "string"
            },
            "text/plain": [
              "'O objeto inserido não é um array NumPy.'"
            ]
          },
          "metadata": {
            "tags": []
          },
          "execution_count": 15
        }
      ]
    },
    {
      "cell_type": "markdown",
      "metadata": {
        "id": "EcOysSKnSqJ6"
      },
      "source": [
        "# EX03\n",
        "\n",
        "Use a função np.array() para criar os arrays unidimensionais listados abaixo:\n",
        "\n",
        "a) Use uma lista como argumento e obtenha:\n",
        "\n",
        "\n",
        "\n",
        "array([-1,  4,  7,  9])\n",
        "\n",
        "\n",
        "b) Use a função range() e obtenha:\n",
        "\n",
        "\n",
        "\n",
        "    \n",
        "array([ 1,  2,  3,  4,  5,  6,  7,  8,  9, 10])\n",
        "\n",
        "\n",
        "c)Use uma tupla como argumento e obtenha:\n",
        "\n",
        "\n",
        "\n",
        "    \n",
        "array([10, 11, 12, 13, 14])\n",
        "\n",
        "\n",
        "d) Use a função range() e obtenha:\n",
        "\n",
        "\n",
        "\n",
        "    \n",
        "array([1990, 1995, 2000, 2005, 2010, 2015, 2020])\n",
        "\n",
        "\n",
        "e) Use a função range() e obtenha:\n",
        "\n",
        "\n",
        "\n",
        "array([2020, 2010, 2000, 1990, 1980, 1970, 1960, 1950, 1940, 1930, 1920,\n",
        "       1910, 1900])\n",
        "\n",
        "\n",
        "f) Obtenha:\n",
        "\n",
        "\n",
        "\n",
        "array(100)"
      ]
    },
    {
      "cell_type": "code",
      "metadata": {
        "colab": {
          "base_uri": "https://localhost:8080/"
        },
        "id": "3ygCx8t0Swdb",
        "outputId": "9e47a1c4-363a-4caa-f7d2-e41c7d2c093c"
      },
      "source": [
        "np.array([-1, 4, 7, 9])"
      ],
      "execution_count": null,
      "outputs": [
        {
          "output_type": "execute_result",
          "data": {
            "text/plain": [
              "array([-1,  4,  7,  9])"
            ]
          },
          "metadata": {
            "tags": []
          },
          "execution_count": 16
        }
      ]
    },
    {
      "cell_type": "code",
      "metadata": {
        "colab": {
          "base_uri": "https://localhost:8080/"
        },
        "id": "s7lm-E6zTDp6",
        "outputId": "34cf4864-7f80-42b8-e3af-fa801b9b33a5"
      },
      "source": [
        "np.array(range(1, 11))"
      ],
      "execution_count": null,
      "outputs": [
        {
          "output_type": "execute_result",
          "data": {
            "text/plain": [
              "array([ 1,  2,  3,  4,  5,  6,  7,  8,  9, 10])"
            ]
          },
          "metadata": {
            "tags": []
          },
          "execution_count": 18
        }
      ]
    },
    {
      "cell_type": "code",
      "metadata": {
        "colab": {
          "base_uri": "https://localhost:8080/"
        },
        "id": "XP3hlFmgTGYy",
        "outputId": "0143aec1-3f08-4be4-b3e3-88baab61d706"
      },
      "source": [
        "np.array((10, 11, 12, 13, 14))"
      ],
      "execution_count": null,
      "outputs": [
        {
          "output_type": "execute_result",
          "data": {
            "text/plain": [
              "array([10, 11, 12, 13, 14])"
            ]
          },
          "metadata": {
            "tags": []
          },
          "execution_count": 19
        }
      ]
    },
    {
      "cell_type": "code",
      "metadata": {
        "colab": {
          "base_uri": "https://localhost:8080/"
        },
        "id": "IZyrp9kJTNt5",
        "outputId": "7cfeaa95-3f78-4f94-d5fa-d7574f9344a8"
      },
      "source": [
        "np.array(range(1990, 2021, 5))"
      ],
      "execution_count": null,
      "outputs": [
        {
          "output_type": "execute_result",
          "data": {
            "text/plain": [
              "array([1990, 1995, 2000, 2005, 2010, 2015, 2020])"
            ]
          },
          "metadata": {
            "tags": []
          },
          "execution_count": 27
        }
      ]
    },
    {
      "cell_type": "code",
      "metadata": {
        "colab": {
          "base_uri": "https://localhost:8080/"
        },
        "id": "wXDeQBT5TSfB",
        "outputId": "03232c90-63cb-431a-be91-b681dee630a6"
      },
      "source": [
        "np.array(range(2020, 1890, -10))"
      ],
      "execution_count": null,
      "outputs": [
        {
          "output_type": "execute_result",
          "data": {
            "text/plain": [
              "array([2020, 2010, 2000, 1990, 1980, 1970, 1960, 1950, 1940, 1930, 1920,\n",
              "       1910, 1900])"
            ]
          },
          "metadata": {
            "tags": []
          },
          "execution_count": 24
        }
      ]
    },
    {
      "cell_type": "code",
      "metadata": {
        "colab": {
          "base_uri": "https://localhost:8080/"
        },
        "id": "x65XqdsMTX1o",
        "outputId": "d2b76715-19a3-4453-fed8-b1ee920bc77e"
      },
      "source": [
        "np.array(100)"
      ],
      "execution_count": null,
      "outputs": [
        {
          "output_type": "execute_result",
          "data": {
            "text/plain": [
              "array(100)"
            ]
          },
          "metadata": {
            "tags": []
          },
          "execution_count": 26
        }
      ]
    },
    {
      "cell_type": "markdown",
      "metadata": {
        "id": "GPBWEisyTtR9"
      },
      "source": [
        "# EX04\n",
        "\n",
        "A função np.ones() permite criar um array preenchido com o número 1 em todas as suas entradas. Podemos especificar como argumentos o shape e o tipo de dado dtype do array. Use esta função para criar os arrays a seguir:\n",
        "\n",
        "a)\n",
        "\n",
        "\n",
        "\n",
        "array([1., 1., 1., 1., 1., 1., 1., 1., 1., 1.])\n",
        "\n",
        "\n",
        "b)\n",
        "\n",
        "\n",
        "\n",
        "array([[1., 1., 1., 1.],\n",
        "       [1., 1., 1., 1.],\n",
        "       [1., 1., 1., 1.],\n",
        "       [1., 1., 1., 1.]])\n",
        "       \n",
        "\n",
        "c)\n",
        "\n",
        "\n",
        "\n",
        "array([[1, 1],\n",
        "       [1, 1],\n",
        "       [1, 1]])\n"
      ]
    },
    {
      "cell_type": "code",
      "metadata": {
        "colab": {
          "base_uri": "https://localhost:8080/"
        },
        "id": "nOTfBF03TuTf",
        "outputId": "b505ace5-c0f1-40e0-d9e7-110623e17c9c"
      },
      "source": [
        "np.ones(10, dtype=float)"
      ],
      "execution_count": null,
      "outputs": [
        {
          "output_type": "execute_result",
          "data": {
            "text/plain": [
              "array([1., 1., 1., 1., 1., 1., 1., 1., 1., 1.])"
            ]
          },
          "metadata": {
            "tags": []
          },
          "execution_count": 28
        }
      ]
    },
    {
      "cell_type": "code",
      "metadata": {
        "colab": {
          "base_uri": "https://localhost:8080/"
        },
        "id": "bB9Xzh3JT6rm",
        "outputId": "bc8722f6-5615-45bc-d0d6-399a381a412b"
      },
      "source": [
        "np.ones(shape=(4, 4), dtype=float)"
      ],
      "execution_count": null,
      "outputs": [
        {
          "output_type": "execute_result",
          "data": {
            "text/plain": [
              "array([[1., 1., 1., 1.],\n",
              "       [1., 1., 1., 1.],\n",
              "       [1., 1., 1., 1.],\n",
              "       [1., 1., 1., 1.]])"
            ]
          },
          "metadata": {
            "tags": []
          },
          "execution_count": 29
        }
      ]
    },
    {
      "cell_type": "code",
      "metadata": {
        "colab": {
          "base_uri": "https://localhost:8080/"
        },
        "id": "ybDt77c3UJd1",
        "outputId": "3af5fa6d-4057-494a-9c20-0f921ba251e0"
      },
      "source": [
        "np.ones(shape=(3, 2), dtype=int)"
      ],
      "execution_count": null,
      "outputs": [
        {
          "output_type": "execute_result",
          "data": {
            "text/plain": [
              "array([[1, 1],\n",
              "       [1, 1],\n",
              "       [1, 1]])"
            ]
          },
          "metadata": {
            "tags": []
          },
          "execution_count": 30
        }
      ]
    },
    {
      "cell_type": "markdown",
      "metadata": {
        "id": "q0b7j8DNUQxH"
      },
      "source": [
        "# EX05\n",
        "\n",
        "A função np.zeros() permite criar um array preenchido com o número 0 em todas as suas entradas. Podemos especificar como argumentos o shape e o tipo de dado dtype do array (default é o float). Use esta função para criar os arrays a seguir:\n",
        "\n",
        "a)\n",
        "\n",
        "\n",
        "\n",
        "array([0., 0., 0., 0., 0., 0., 0., 0., 0., 0.])\n",
        "\n",
        "\n",
        "b)\n",
        "\n",
        "\n",
        "\n",
        "array([[0., 0.],\n",
        "       [0., 0.]])  \n",
        "       \n",
        "\n",
        "c)\n",
        "\n",
        "\n",
        "\n",
        "array([[0., 0., 0., 0., 0., 0.],\n",
        "       [0., 0., 0., 0., 0., 0.],\n",
        "       [0., 0., 0., 0., 0., 0.],\n",
        "       [0., 0., 0., 0., 0., 0.]])"
      ]
    },
    {
      "cell_type": "code",
      "metadata": {
        "colab": {
          "base_uri": "https://localhost:8080/"
        },
        "id": "WJY8SzF-URps",
        "outputId": "de2fb974-668d-45b5-e123-c6e635acfef8"
      },
      "source": [
        "np.zeros(10, dtype=float)"
      ],
      "execution_count": null,
      "outputs": [
        {
          "output_type": "execute_result",
          "data": {
            "text/plain": [
              "array([0., 0., 0., 0., 0., 0., 0., 0., 0., 0.])"
            ]
          },
          "metadata": {
            "tags": []
          },
          "execution_count": 31
        }
      ]
    },
    {
      "cell_type": "code",
      "metadata": {
        "colab": {
          "base_uri": "https://localhost:8080/"
        },
        "id": "3f2EuqydUeqU",
        "outputId": "1306c0b2-7812-436e-9203-b6127426418a"
      },
      "source": [
        "np.zeros(shape=(2, 2), dtype=float)"
      ],
      "execution_count": null,
      "outputs": [
        {
          "output_type": "execute_result",
          "data": {
            "text/plain": [
              "array([[0., 0.],\n",
              "       [0., 0.]])"
            ]
          },
          "metadata": {
            "tags": []
          },
          "execution_count": 32
        }
      ]
    },
    {
      "cell_type": "code",
      "metadata": {
        "colab": {
          "base_uri": "https://localhost:8080/"
        },
        "id": "9CA2L2X3UiJy",
        "outputId": "095b1227-53f2-4a52-c160-31769520233e"
      },
      "source": [
        "np.zeros(shape=(4, 6), dtype=float)"
      ],
      "execution_count": null,
      "outputs": [
        {
          "output_type": "execute_result",
          "data": {
            "text/plain": [
              "array([[0., 0., 0., 0., 0., 0.],\n",
              "       [0., 0., 0., 0., 0., 0.],\n",
              "       [0., 0., 0., 0., 0., 0.],\n",
              "       [0., 0., 0., 0., 0., 0.]])"
            ]
          },
          "metadata": {
            "tags": []
          },
          "execution_count": 33
        }
      ]
    },
    {
      "cell_type": "markdown",
      "metadata": {
        "id": "ZMo0OySoUp36"
      },
      "source": [
        "# EX06\n",
        "\n",
        "Crie os arrays a seguir:\n",
        "\n",
        "   \n",
        "\n",
        "a)\n",
        "\n",
        "\n",
        "\n",
        "array([[10],\n",
        "       [15],\n",
        "       [20],\n",
        "       [25],\n",
        "       [30],\n",
        "       [35],\n",
        "       [40],\n",
        "       [45]])\n",
        "\n",
        "\n",
        "b)\n",
        "\n",
        "\n",
        "\n",
        "array([-50, -45, -40, -35, -30, -25, -20, -15, -10,  -5])\n",
        "\n",
        "\n",
        "c)\n",
        "\n",
        "\n",
        "\n",
        "array([[ 50,  52,  54,  56,  58,  60,  62,  64,  66,  68],\n",
        "       [ 70,  72,  74,  76,  78,  80,  82,  84,  86,  88],\n",
        "       [ 90,  92,  94,  96,  98, 100, 102, 104, 106, 108],\n",
        "       [110, 112, 114, 116, 118, 120, 122, 124, 126, 128],\n",
        "       [130, 132, 134, 136, 138, 140, 142, 144, 146, 148]])\n",
        "       \n",
        "\n",
        "Dica: use np.arange() ou np.array(range())."
      ]
    },
    {
      "cell_type": "code",
      "metadata": {
        "colab": {
          "base_uri": "https://localhost:8080/"
        },
        "id": "uKx-PuDqUshJ",
        "outputId": "7c23b2b2-73b3-4e62-8edc-1545b71a98fb"
      },
      "source": [
        "np.array([10, 15, 20, 25, 30, 35, 40, 45]).reshape(-1, 1)"
      ],
      "execution_count": null,
      "outputs": [
        {
          "output_type": "execute_result",
          "data": {
            "text/plain": [
              "array([[10],\n",
              "       [15],\n",
              "       [20],\n",
              "       [25],\n",
              "       [30],\n",
              "       [35],\n",
              "       [40],\n",
              "       [45]])"
            ]
          },
          "metadata": {
            "tags": []
          },
          "execution_count": 34
        }
      ]
    },
    {
      "cell_type": "code",
      "metadata": {
        "colab": {
          "base_uri": "https://localhost:8080/"
        },
        "id": "LE2GxAzpUzTh",
        "outputId": "0e95468e-1d70-4258-924e-5d775afbc81a"
      },
      "source": [
        "np.arange(-50, 0, 5)"
      ],
      "execution_count": null,
      "outputs": [
        {
          "output_type": "execute_result",
          "data": {
            "text/plain": [
              "array([-50, -45, -40, -35, -30, -25, -20, -15, -10,  -5])"
            ]
          },
          "metadata": {
            "tags": []
          },
          "execution_count": 40
        }
      ]
    },
    {
      "cell_type": "code",
      "metadata": {
        "colab": {
          "base_uri": "https://localhost:8080/"
        },
        "id": "EnvAGquXU5cJ",
        "outputId": "82275dc5-33de-43f9-93c2-a07347d7beee"
      },
      "source": [
        "np.arange(50, 150, 2).reshape((5, 10))"
      ],
      "execution_count": null,
      "outputs": [
        {
          "output_type": "execute_result",
          "data": {
            "text/plain": [
              "array([[ 50,  52,  54,  56,  58,  60,  62,  64,  66,  68],\n",
              "       [ 70,  72,  74,  76,  78,  80,  82,  84,  86,  88],\n",
              "       [ 90,  92,  94,  96,  98, 100, 102, 104, 106, 108],\n",
              "       [110, 112, 114, 116, 118, 120, 122, 124, 126, 128],\n",
              "       [130, 132, 134, 136, 138, 140, 142, 144, 146, 148]])"
            ]
          },
          "metadata": {
            "tags": []
          },
          "execution_count": 39
        }
      ]
    },
    {
      "cell_type": "markdown",
      "metadata": {
        "id": "VnCungHjVPnl"
      },
      "source": [
        "# EX07\n",
        "\n",
        "Utilize a função np.full(shape, fill_value, dtype) para criar os arrays a seguir. Esta função permite criar um array com um shape e dtype definidos pelo usuário, preenchido com um determinado valor.\n",
        "\n",
        "a)\n",
        "\n",
        "\n",
        "\n",
        "`array([5., 5., 5., 5., 5., 5., 5., 5., 5., 5.])`\n",
        "\n",
        "\n",
        "b)\n",
        "\n",
        "\n",
        "\n",
        "`array([[-5., -5., -5., -5.],\n",
        "       [-5., -5., -5., -5.],\n",
        "       [-5., -5., -5., -5.],\n",
        "       [-5., -5., -5., -5.]])`\n",
        "\n",
        "\n",
        "\n",
        "\n",
        "c)\n",
        "\n",
        "\n",
        "\n",
        "`array([[3, 3, 3],\n",
        "       [3, 3, 3],\n",
        "       [3, 3, 3]])`\n",
        "\n",
        "d)\n",
        "\n",
        "\n",
        "\n",
        "`array([[50, 50, 50, 50, 50, 50, 50, 50, 50, 50],\n",
        "       [50, 50, 50, 50, 50, 50, 50, 50, 50, 50],\n",
        "       [50, 50, 50, 50, 50, 50, 50, 50, 50, 50],\n",
        "       [50, 50, 50, 50, 50, 50, 50, 50, 50, 50],\n",
        "       [50, 50, 50, 50, 50, 50, 50, 50, 50, 50],\n",
        "       [50, 50, 50, 50, 50, 50, 50, 50, 50, 50],\n",
        "       [50, 50, 50, 50, 50, 50, 50, 50, 50, 50],\n",
        "       [50, 50, 50, 50, 50, 50, 50, 50, 50, 50],\n",
        "       [50, 50, 50, 50, 50, 50, 50, 50, 50, 50],\n",
        "       [50, 50, 50, 50, 50, 50, 50, 50, 50, 50]])`\n",
        "\n",
        "\n",
        "Dica: outra possibilidade seria obter os arrays com uma operação diferente, a partir da multiplicação de uma matriz preenchida com número 1 por um determinado valor."
      ]
    },
    {
      "cell_type": "code",
      "metadata": {
        "colab": {
          "base_uri": "https://localhost:8080/"
        },
        "id": "bfOoKbdIVSc-",
        "outputId": "5d6c3cee-54da-4be0-98d1-d9e084f51cc1"
      },
      "source": [
        "np.full(10, 5, dtype=float)"
      ],
      "execution_count": null,
      "outputs": [
        {
          "output_type": "execute_result",
          "data": {
            "text/plain": [
              "array([5., 5., 5., 5., 5., 5., 5., 5., 5., 5.])"
            ]
          },
          "metadata": {
            "tags": []
          },
          "execution_count": 41
        }
      ]
    },
    {
      "cell_type": "code",
      "metadata": {
        "colab": {
          "base_uri": "https://localhost:8080/"
        },
        "id": "Rchz0IN6Vez1",
        "outputId": "46bff01a-45d9-424d-be45-b7d4c063aa67"
      },
      "source": [
        "np.full(shape=(4, 4), fill_value=-5, dtype=float)"
      ],
      "execution_count": null,
      "outputs": [
        {
          "output_type": "execute_result",
          "data": {
            "text/plain": [
              "array([[-5., -5., -5., -5.],\n",
              "       [-5., -5., -5., -5.],\n",
              "       [-5., -5., -5., -5.],\n",
              "       [-5., -5., -5., -5.]])"
            ]
          },
          "metadata": {
            "tags": []
          },
          "execution_count": 43
        }
      ]
    },
    {
      "cell_type": "code",
      "metadata": {
        "colab": {
          "base_uri": "https://localhost:8080/"
        },
        "id": "WIlkcaMtVkBF",
        "outputId": "f6e25bfc-55a0-4697-f750-7775ec989bd9"
      },
      "source": [
        "np.full(shape=(3, 3), fill_value=3, dtype=int)"
      ],
      "execution_count": null,
      "outputs": [
        {
          "output_type": "execute_result",
          "data": {
            "text/plain": [
              "array([[3, 3, 3],\n",
              "       [3, 3, 3],\n",
              "       [3, 3, 3]])"
            ]
          },
          "metadata": {
            "tags": []
          },
          "execution_count": 44
        }
      ]
    },
    {
      "cell_type": "code",
      "metadata": {
        "colab": {
          "base_uri": "https://localhost:8080/"
        },
        "id": "duFp_v1AVyr0",
        "outputId": "4bc302ea-97e9-40c7-abe3-bb9474005aad"
      },
      "source": [
        "np.full(shape=(10, 10), fill_value=50, dtype=int)"
      ],
      "execution_count": null,
      "outputs": [
        {
          "output_type": "execute_result",
          "data": {
            "text/plain": [
              "array([[50, 50, 50, 50, 50, 50, 50, 50, 50, 50],\n",
              "       [50, 50, 50, 50, 50, 50, 50, 50, 50, 50],\n",
              "       [50, 50, 50, 50, 50, 50, 50, 50, 50, 50],\n",
              "       [50, 50, 50, 50, 50, 50, 50, 50, 50, 50],\n",
              "       [50, 50, 50, 50, 50, 50, 50, 50, 50, 50],\n",
              "       [50, 50, 50, 50, 50, 50, 50, 50, 50, 50],\n",
              "       [50, 50, 50, 50, 50, 50, 50, 50, 50, 50],\n",
              "       [50, 50, 50, 50, 50, 50, 50, 50, 50, 50],\n",
              "       [50, 50, 50, 50, 50, 50, 50, 50, 50, 50],\n",
              "       [50, 50, 50, 50, 50, 50, 50, 50, 50, 50]])"
            ]
          },
          "metadata": {
            "tags": []
          },
          "execution_count": 2
        }
      ]
    },
    {
      "cell_type": "markdown",
      "metadata": {
        "id": "WztIkB-SBvX9"
      },
      "source": [
        "# EX08\n",
        "\n",
        "Defina o array K e verifique se há dados ausentes (missing data). Use a função np.isnan().\n",
        "\n",
        "```\n",
        "array([[ nan,   1.,  10.,   0.],\n",
        "       [ nan,  nan,  nan,  nan],\n",
        "       [100.,  50.,  nan, -25.],\n",
        "       [ 30.,  nan,  nan, 130.]])\n",
        "```\n",
        "\n"
      ]
    },
    {
      "cell_type": "code",
      "metadata": {
        "colab": {
          "base_uri": "https://localhost:8080/"
        },
        "id": "C7yLs1CmBwHs",
        "outputId": "ae50c6dc-2f41-420b-82a9-e3763e3b3acc"
      },
      "source": [
        "array = np.array([[np.nan, 1., 10., 0], [np.nan, np.nan, np.nan, np.nan], [np.nan, 50., np.nan, -25.], [30., np.nan, np.nan, 130.]])\n",
        "array"
      ],
      "execution_count": null,
      "outputs": [
        {
          "output_type": "execute_result",
          "data": {
            "text/plain": [
              "array([[ nan,   1.,  10.,   0.],\n",
              "       [ nan,  nan,  nan,  nan],\n",
              "       [ nan,  50.,  nan, -25.],\n",
              "       [ 30.,  nan,  nan, 130.]])"
            ]
          },
          "metadata": {
            "tags": []
          },
          "execution_count": 7
        }
      ]
    },
    {
      "cell_type": "code",
      "metadata": {
        "colab": {
          "base_uri": "https://localhost:8080/"
        },
        "id": "DRytdNtGCe70",
        "outputId": "3c8a3824-8a51-4e5a-ae7a-0111cea2b932"
      },
      "source": [
        "np.isnan(array)\n",
        "np.isnan(array).sum()"
      ],
      "execution_count": null,
      "outputs": [
        {
          "output_type": "execute_result",
          "data": {
            "text/plain": [
              "9"
            ]
          },
          "metadata": {
            "tags": []
          },
          "execution_count": 11
        }
      ]
    },
    {
      "cell_type": "markdown",
      "metadata": {
        "id": "FO6S26YzDKAU"
      },
      "source": [
        "# EX09\n",
        "\n",
        "A função np.linspace() retorna um array com números contendo espaçamento uniforme em um intervalo definido. Crie um array com números dentro do intervalo [1,21] em 5 partes.\n",
        "\n",
        "Retorno esperado:\n",
        "\n",
        "\n",
        "\n",
        "array([ 1.,  6., 11., 16., 21.])"
      ]
    },
    {
      "cell_type": "code",
      "metadata": {
        "id": "4u8bmnZQDK0b",
        "colab": {
          "base_uri": "https://localhost:8080/"
        },
        "outputId": "5ff41db0-126a-419d-bb41-c8402dd49c68"
      },
      "source": [
        "np.linspace(1, 21, 5)"
      ],
      "execution_count": null,
      "outputs": [
        {
          "output_type": "execute_result",
          "data": {
            "text/plain": [
              "array([ 1.,  6., 11., 16., 21.])"
            ]
          },
          "metadata": {
            "tags": []
          },
          "execution_count": 12
        }
      ]
    },
    {
      "cell_type": "markdown",
      "metadata": {
        "id": "7rnZ1gqaDtlP"
      },
      "source": [
        "#EX10\n",
        "\n",
        "A função np.logspace() retorna números com espaçamento uniforme em uma escala logarítmica. Crie um array com números dentro do intervalo [1, 51] em 10 partes com a função np.logspace().\n",
        "\n",
        "Retorno esperado:\n",
        "\n",
        "```\n",
        "array([[1.00000000e+01],\n",
        "       [3.59381366e+06],\n",
        "       [1.29154967e+12],\n",
        "       [4.64158883e+17],\n",
        "       [1.66810054e+23],\n",
        "       [5.99484250e+28],\n",
        "       [2.15443469e+34],\n",
        "       [7.74263683e+39],\n",
        "       [2.78255940e+45],\n",
        "       [1.00000000e+51]])\n",
        "```\n",
        "\n",
        "\n",
        "\n"
      ]
    },
    {
      "cell_type": "code",
      "metadata": {
        "colab": {
          "base_uri": "https://localhost:8080/"
        },
        "id": "Ic_yJ_UPD0Ly",
        "outputId": "126c64f3-d99d-4af2-ae20-0e806cd52c05"
      },
      "source": [
        "np.logspace(1, 51, 10).reshape(-1, 1)"
      ],
      "execution_count": null,
      "outputs": [
        {
          "output_type": "execute_result",
          "data": {
            "text/plain": [
              "array([[1.00000000e+01],\n",
              "       [3.59381366e+06],\n",
              "       [1.29154967e+12],\n",
              "       [4.64158883e+17],\n",
              "       [1.66810054e+23],\n",
              "       [5.99484250e+28],\n",
              "       [2.15443469e+34],\n",
              "       [7.74263683e+39],\n",
              "       [2.78255940e+45],\n",
              "       [1.00000000e+51]])"
            ]
          },
          "metadata": {
            "tags": []
          },
          "execution_count": 17
        }
      ]
    },
    {
      "cell_type": "markdown",
      "metadata": {
        "id": "O60R7BmWEc3_"
      },
      "source": [
        "#EX11\n",
        "\n",
        "Use a função np.diag() para construir o array a seguir:\n",
        "\n",
        "```\n",
        "array([[ 5,  0,  0,  0,  0,  0],\n",
        "       [ 0, 10,  0,  0,  0,  0],\n",
        "       [ 0,  0, 15,  0,  0,  0],\n",
        "       [ 0,  0,  0, 20,  0,  0],\n",
        "       [ 0,  0,  0,  0, 25,  0],\n",
        "       [ 0,  0,  0,  0,  0, 30]])\n",
        "```\n",
        "\n"
      ]
    },
    {
      "cell_type": "code",
      "metadata": {
        "colab": {
          "base_uri": "https://localhost:8080/"
        },
        "id": "Zxms-NdlEodt",
        "outputId": "c8a47645-ca32-41bf-80cb-1635ac6b389d"
      },
      "source": [
        "x = np.array([5, 10, 15, 20, 25, 30])\n",
        "np.diag(x)\n",
        "\n",
        "# ou \n",
        "\n",
        "np.diag(np.arange(5, 31, 5))"
      ],
      "execution_count": null,
      "outputs": [
        {
          "output_type": "execute_result",
          "data": {
            "text/plain": [
              "array([[ 5,  0,  0,  0,  0,  0],\n",
              "       [ 0, 10,  0,  0,  0,  0],\n",
              "       [ 0,  0, 15,  0,  0,  0],\n",
              "       [ 0,  0,  0, 20,  0,  0],\n",
              "       [ 0,  0,  0,  0, 25,  0],\n",
              "       [ 0,  0,  0,  0,  0, 30]])"
            ]
          },
          "metadata": {
            "tags": []
          },
          "execution_count": 24
        }
      ]
    },
    {
      "cell_type": "markdown",
      "metadata": {
        "id": "PEhyXemGHeTV"
      },
      "source": [
        "#EX12\n",
        "\n",
        "Use a função np.eye() (ou ainda np.identity()) para obter o array seguir.\n",
        "\n",
        "\n",
        "\n",
        "```array([[1., 0., 0., 0., 0., 0., 0., 0., 0., 0.],\n",
        "       [0., 1., 0., 0., 0., 0., 0., 0., 0., 0.],\n",
        "       [0., 0., 1., 0., 0., 0., 0., 0., 0., 0.],\n",
        "       [0., 0., 0., 1., 0., 0., 0., 0., 0., 0.],\n",
        "       [0., 0., 0., 0., 1., 0., 0., 0., 0., 0.],\n",
        "       [0., 0., 0., 0., 0., 1., 0., 0., 0., 0.],\n",
        "       [0., 0., 0., 0., 0., 0., 1., 0., 0., 0.],\n",
        "       [0., 0., 0., 0., 0., 0., 0., 1., 0., 0.],\n",
        "       [0., 0., 0., 0., 0., 0., 0., 0., 1., 0.],\n",
        "       [0., 0., 0., 0., 0., 0., 0., 0., 0., 1.]])```\n",
        "\n"
      ]
    },
    {
      "cell_type": "code",
      "metadata": {
        "colab": {
          "base_uri": "https://localhost:8080/"
        },
        "id": "OVjVa0IhHwFr",
        "outputId": "0ef16f02-7a4d-4613-836c-9fd5a2ebe6a8"
      },
      "source": [
        "np.eye(10)"
      ],
      "execution_count": null,
      "outputs": [
        {
          "output_type": "execute_result",
          "data": {
            "text/plain": [
              "array([[1., 0., 0., 0., 0., 0., 0., 0., 0., 0.],\n",
              "       [0., 1., 0., 0., 0., 0., 0., 0., 0., 0.],\n",
              "       [0., 0., 1., 0., 0., 0., 0., 0., 0., 0.],\n",
              "       [0., 0., 0., 1., 0., 0., 0., 0., 0., 0.],\n",
              "       [0., 0., 0., 0., 1., 0., 0., 0., 0., 0.],\n",
              "       [0., 0., 0., 0., 0., 1., 0., 0., 0., 0.],\n",
              "       [0., 0., 0., 0., 0., 0., 1., 0., 0., 0.],\n",
              "       [0., 0., 0., 0., 0., 0., 0., 1., 0., 0.],\n",
              "       [0., 0., 0., 0., 0., 0., 0., 0., 1., 0.],\n",
              "       [0., 0., 0., 0., 0., 0., 0., 0., 0., 1.]])"
            ]
          },
          "metadata": {
            "tags": []
          },
          "execution_count": 32
        }
      ]
    },
    {
      "cell_type": "markdown",
      "metadata": {
        "id": "2a33bZ5MIVOz"
      },
      "source": [
        "#EX13\n",
        "\n",
        "Obtenha a soma dos elementos de cada array a seguir. Use a função np.sum(). Implemente uma solução com loop for, para tanto armazene os vetores em uma lista.\n",
        "\n",
        "\n",
        "\n",
        "\n",
        "```\n",
        "import numpy as np\n",
        "array1 = np.arange(1,11)\n",
        "array2 = np.linspace(1,50,10)\n",
        "array3 = np.array(range(51))\n",
        "array4 = np.logspace(1,10,5)\n",
        "array5 = np.diag(range(5,31,5))\n",
        "```\n",
        "\n",
        "Retorno esperado:\n",
        "\n",
        "```\n",
        "Soma dos elementos do array 1:  55\n",
        "Soma dos elementos do array 2:  255.0\n",
        "Soma dos elementos do array 3:  1275\n",
        "Soma dos elementos do array 4:  10056552148.564463\n",
        "Soma dos elementos do array 5:  105\n",
        "```"
      ]
    },
    {
      "cell_type": "code",
      "metadata": {
        "id": "-TiAiS1LIWxU"
      },
      "source": [
        "import numpy as np\n",
        "array1 = np.arange(1,11)\n",
        "array2 = np.linspace(1,50,10)\n",
        "array3 = np.array(range(51))\n",
        "array4 = np.logspace(1,10,5)\n",
        "array5 = np.diag(range(5,31,5))"
      ],
      "execution_count": null,
      "outputs": []
    },
    {
      "cell_type": "code",
      "metadata": {
        "colab": {
          "base_uri": "https://localhost:8080/"
        },
        "id": "yl1tc9w1IsCc",
        "outputId": "1539240e-5ed5-438f-db45-c4e02f090fcc"
      },
      "source": [
        "# solucao 1\n",
        "print(f'''\n",
        "    Soma dos elementos do array 1: {array1.sum()}\n",
        "    Soma dos elementos do array 2: {array2.sum()}\n",
        "    Soma dos elementos do array 3: {array3.sum()}\n",
        "    Soma dos elementos do array 4: {array4.sum()}\n",
        "    Soma dos elementos do array 5: {array5.sum()}\n",
        "''')"
      ],
      "execution_count": null,
      "outputs": [
        {
          "output_type": "stream",
          "text": [
            "\n",
            "    Soma dos elementos do array 1: 55\n",
            "    Soma dos elementos do array 2: 255.0\n",
            "    Soma dos elementos do array 3: 1275\n",
            "    Soma dos elementos do array 4: 10056552148.564463\n",
            "    Soma dos elementos do array 5: 105\n",
            "\n",
            "\n",
            "\n"
          ],
          "name": "stdout"
        }
      ]
    },
    {
      "cell_type": "code",
      "metadata": {
        "colab": {
          "base_uri": "https://localhost:8080/"
        },
        "id": "eOIZy7RNJTyu",
        "outputId": "72b331b2-50f8-4499-9aee-16ae0bb895fd"
      },
      "source": [
        "# solucao 2\n",
        "arrays = [array1, array2, array3, array4, array5]\n",
        "\n",
        "for index, array in enumerate(arrays, start=1):\n",
        "    print(f'A soma do {index}º array é {array.sum()}')"
      ],
      "execution_count": null,
      "outputs": [
        {
          "output_type": "stream",
          "text": [
            "A soma do 1º array é 55\n",
            "A soma do 2º array é 255.0\n",
            "A soma do 3º array é 1275\n",
            "A soma do 4º array é 10056552148.564463\n",
            "A soma do 5º array é 105\n"
          ],
          "name": "stdout"
        }
      ]
    },
    {
      "cell_type": "markdown",
      "metadata": {
        "id": "Gknfq4huKqOg"
      },
      "source": [
        "# EX14\n",
        "\n",
        "A partir da matriz definida abaixo obtenha:\n",
        "\n",
        "a) soma total dos elementos; \n",
        "\n",
        "b) soma das linhas;\n",
        "\n",
        "c) soma das colunas.\n",
        "\n",
        "\n",
        "```\n",
        "import numpy as np\n",
        "matriz = np.array(np.random.randint(1,100,15)).reshape(5,3)\n",
        "```\n",
        "\n",
        "\n",
        "\n",
        "\n"
      ]
    },
    {
      "cell_type": "code",
      "metadata": {
        "colab": {
          "base_uri": "https://localhost:8080/"
        },
        "id": "hw52hib5LC9k",
        "outputId": "9dfa10cb-40dc-46ef-935a-82db8c8d6f98"
      },
      "source": [
        "matriz = np.array(np.random.randint(1,100,15)).reshape(5,3)\n",
        "matriz"
      ],
      "execution_count": null,
      "outputs": [
        {
          "output_type": "execute_result",
          "data": {
            "text/plain": [
              "array([[48, 56, 11],\n",
              "       [ 9, 69, 86],\n",
              "       [38, 41, 46],\n",
              "       [23, 13, 18],\n",
              "       [97, 98, 89]])"
            ]
          },
          "metadata": {
            "tags": []
          },
          "execution_count": 3
        }
      ]
    },
    {
      "cell_type": "code",
      "metadata": {
        "colab": {
          "base_uri": "https://localhost:8080/"
        },
        "id": "vvgEaDW3LX7l",
        "outputId": "eeb9a03e-4803-4b6e-ce21-e6b1c1ae4d68"
      },
      "source": [
        "matriz.sum()"
      ],
      "execution_count": null,
      "outputs": [
        {
          "output_type": "execute_result",
          "data": {
            "text/plain": [
              "742"
            ]
          },
          "metadata": {
            "tags": []
          },
          "execution_count": 4
        }
      ]
    },
    {
      "cell_type": "code",
      "metadata": {
        "colab": {
          "base_uri": "https://localhost:8080/"
        },
        "id": "FH0xlkB9Lk_g",
        "outputId": "b78c1d08-58d7-422d-b9cf-c145fa761672"
      },
      "source": [
        "# linhas\n",
        "matriz.sum(axis=0)"
      ],
      "execution_count": null,
      "outputs": [
        {
          "output_type": "execute_result",
          "data": {
            "text/plain": [
              "array([215, 277, 250])"
            ]
          },
          "metadata": {
            "tags": []
          },
          "execution_count": 5
        }
      ]
    },
    {
      "cell_type": "code",
      "metadata": {
        "colab": {
          "base_uri": "https://localhost:8080/"
        },
        "id": "ndfIqeohLyv3",
        "outputId": "3648ffe4-c356-443f-e96f-e750fb0b44b3"
      },
      "source": [
        "# colunas\n",
        "matriz.sum(axis=1)"
      ],
      "execution_count": null,
      "outputs": [
        {
          "output_type": "execute_result",
          "data": {
            "text/plain": [
              "array([115, 164, 125,  54, 284])"
            ]
          },
          "metadata": {
            "tags": []
          },
          "execution_count": 6
        }
      ]
    },
    {
      "cell_type": "markdown",
      "metadata": {
        "id": "fx-0Rj3ZskS1"
      },
      "source": [
        "# EX15\n",
        "\n",
        "Obtenha o valor máximo e o valor mínimo de cada array abaixo. Implemente uma solução com loop for.\n",
        "\n",
        "\n",
        "```\n",
        "import numpy as np\n",
        "array1 = np.array([-1, 10, 3, 4, 7, 27])\n",
        "array2 = np.random.randint(-100,300,30)\n",
        "array3 = np.random.randn(10)\n",
        "array4 = np.array(range(50,10,-2))\n",
        "```\n",
        "\n",
        "\n",
        "\n",
        "Dica: para obter o valor máximo e mínimo de um array podemos usar array.max() e array.min() ( ou ainda max(array) e min(array)).\n"
      ]
    },
    {
      "cell_type": "code",
      "metadata": {
        "id": "3QayhYVIsvxk"
      },
      "source": [
        "array1 = np.array([-1, 10, 3, 4, 7, 27])\n",
        "array2 = np.random.randint(-100,300,30)\n",
        "array3 = np.random.randn(10)\n",
        "array4 = np.array(range(50,10,-2))\n",
        "arrays = [array1, array2, array3, array4]"
      ],
      "execution_count": null,
      "outputs": []
    },
    {
      "cell_type": "code",
      "metadata": {
        "colab": {
          "base_uri": "https://localhost:8080/"
        },
        "id": "JjiDfcMas248",
        "outputId": "9904cbb2-9e10-41d4-819b-51508a7f6aa6"
      },
      "source": [
        "for indice, array in enumerate(arrays, start=1):\n",
        "    print(f'Soma do {indice}º: {array.sum()}')"
      ],
      "execution_count": null,
      "outputs": [
        {
          "output_type": "stream",
          "text": [
            "Soma do 1º: 50\n",
            "Soma do 2º: 3086\n",
            "Soma do 3º: 2.707741976964769\n",
            "Soma do 4º: 620\n"
          ],
          "name": "stdout"
        }
      ]
    },
    {
      "cell_type": "markdown",
      "metadata": {
        "id": "6WczHPWLth1_"
      },
      "source": [
        "#EX16\n",
        "\n",
        "Crie uma função que receba uma matriz como entrada e calcule:\n",
        "\n",
        "    a) Valor máximo da matriz;\n",
        "\n",
        "    b) Valor máximo por coluna;\n",
        "\n",
        "    c) Valor máximo por linha;\n",
        "\n",
        "    d) Valor mínimo da matriz;\n",
        "\n",
        "    e) Valor mínimo por coluna;\n",
        "\n",
        "    f) Valor mínimo por linha.\n",
        "\n",
        "\n",
        "\n"
      ]
    },
    {
      "cell_type": "code",
      "metadata": {
        "colab": {
          "base_uri": "https://localhost:8080/"
        },
        "id": "CszZmZOStlaP",
        "outputId": "897fe6db-2e68-421a-eb53-62c2018d2ede"
      },
      "source": [
        "def calcula_matriz(matriz):\n",
        "    if isinstance(matriz,np.ndarray) and matriz.ndim == 2:\n",
        "        print(f'Valor máximo da matriz: {matriz.max()}')\n",
        "        print(f'Valor máximo por coluna: {matriz.max(axis=0)}')\n",
        "        print(f'Valor máximo por linha: {matriz.max(axis=1)}')\n",
        "        print(f'Valor mínimo da matriz: {matriz.min()}')\n",
        "        print(f'Valor mínimo por coluna: {matriz.min(axis=0)}')\n",
        "        print(f'Valor mínimo por linha: {matriz.min(axis=1)}')\n",
        "    else:\n",
        "        return None\n",
        "\n",
        "\n",
        "matriz = np.array([[1, 2, 3, 4, 5], [6, 7, 8, 9, 10], [3, 46, 22, 34, 22]])\n",
        "calcula_matriz(matriz)"
      ],
      "execution_count": null,
      "outputs": [
        {
          "output_type": "stream",
          "text": [
            "Valor máximo da matriz: 46\n",
            "Valor máximo por coluna: [ 6 46 22 34 22]\n",
            "Valor máximo por linha: [ 5 10 46]\n",
            "Valor mínimo da matriz: 1\n",
            "Valor mínimo por coluna: [1 2 3 4 5]\n",
            "Valor mínimo por linha: [1 6 3]\n"
          ],
          "name": "stdout"
        }
      ]
    },
    {
      "cell_type": "markdown",
      "metadata": {
        "id": "gPkL0W1JwQ-4"
      },
      "source": [
        "# EX17\n",
        "\n",
        "Com base no array definido abaixo obtenha sua média, mediana, variância e desvio padrão.\n",
        "\n",
        "\n",
        "\n",
        "\n",
        "`arr = np.random.normal(40,0.5,size = (300))`"
      ]
    },
    {
      "cell_type": "code",
      "metadata": {
        "colab": {
          "base_uri": "https://localhost:8080/"
        },
        "id": "6rvJymYtwRzb",
        "outputId": "3c6a9f69-347f-4fd0-d724-c1affb5293f1"
      },
      "source": [
        "array = np.random.normal(40,0.5,size = (300))\n",
        "array"
      ],
      "execution_count": null,
      "outputs": [
        {
          "output_type": "execute_result",
          "data": {
            "text/plain": [
              "array([40.15131592, 40.96900222, 39.94696253, 38.88698449, 39.60532502,\n",
              "       39.23182209, 40.22514259, 40.13268083, 39.69961417, 39.94776538,\n",
              "       39.9739828 , 40.34359331, 40.24961198, 40.72380031, 40.53569537,\n",
              "       39.95734874, 40.09004747, 40.34240816, 40.3973736 , 40.86654411,\n",
              "       39.53191397, 39.84238761, 39.58929095, 40.11099295, 39.72539303,\n",
              "       40.19585562, 39.60090313, 40.20149658, 39.58562276, 39.2873431 ,\n",
              "       39.8438225 , 40.30776891, 40.37494683, 40.18656398, 39.16517637,\n",
              "       39.83517041, 40.1650073 , 39.80449317, 39.39927423, 40.48809443,\n",
              "       40.46621934, 39.88161324, 40.07683696, 40.08260863, 40.31951283,\n",
              "       39.85566559, 39.89110103, 40.28663571, 39.94502918, 40.56602251,\n",
              "       40.13960316, 40.60226676, 39.62277297, 40.00094802, 40.11562329,\n",
              "       39.33614063, 39.32782008, 40.01401271, 39.79578626, 40.78641989,\n",
              "       40.50696803, 39.84379716, 40.85632508, 40.46787651, 40.0114316 ,\n",
              "       40.10966184, 39.3584753 , 40.3197284 , 40.19014515, 39.7569034 ,\n",
              "       40.56997558, 39.98774981, 40.30449997, 40.15459985, 41.37800542,\n",
              "       40.32685071, 40.34111056, 40.28586518, 40.47060338, 40.09419081,\n",
              "       40.20008502, 40.45150875, 39.72898385, 39.88629422, 40.52569075,\n",
              "       39.9791172 , 39.31443678, 40.31045419, 39.44252785, 40.90539305,\n",
              "       39.59880813, 39.3402945 , 39.17168063, 40.14138103, 40.31271298,\n",
              "       39.97030813, 40.56331915, 40.55024715, 40.37852957, 40.5906338 ,\n",
              "       40.61160934, 38.80529516, 40.0801832 , 40.62097018, 39.59541932,\n",
              "       40.04171223, 40.01462492, 39.38623283, 39.29980493, 40.14368039,\n",
              "       40.29665477, 40.32904813, 40.63101895, 39.96930208, 40.03774748,\n",
              "       39.83983807, 40.29775998, 39.98351866, 38.94835454, 39.80580199,\n",
              "       39.70446228, 38.37655606, 40.46080543, 40.17503901, 39.58552507,\n",
              "       39.85223971, 40.05105285, 39.96882769, 40.47963165, 40.04713999,\n",
              "       40.20513282, 40.56306595, 39.84601558, 40.17278779, 40.21855163,\n",
              "       39.52611738, 39.88181684, 40.3835519 , 39.65855985, 40.34852626,\n",
              "       40.50357083, 39.90272539, 41.6227819 , 41.11614235, 39.70743041,\n",
              "       39.82181275, 40.22837503, 40.18357258, 39.87110907, 39.66968349,\n",
              "       39.85641915, 40.48718999, 39.55883646, 39.73059574, 40.42600112,\n",
              "       39.96832549, 40.2416262 , 39.50386599, 39.6281382 , 39.19680742,\n",
              "       40.36794356, 40.48086417, 40.47307098, 40.53830245, 40.00743107,\n",
              "       40.02699933, 41.20611747, 40.31686431, 40.41136426, 39.6506805 ,\n",
              "       39.75979343, 39.47830402, 39.42335024, 39.80864206, 39.70929933,\n",
              "       39.81127369, 39.69613164, 39.20356329, 40.19688255, 39.5257038 ,\n",
              "       40.26544913, 40.6179194 , 40.5056109 , 39.62789801, 39.95598423,\n",
              "       39.15685711, 39.33459613, 39.42236949, 39.72376605, 39.76004413,\n",
              "       39.74219394, 40.33612885, 39.43205424, 40.03197173, 40.08505555,\n",
              "       40.14278546, 39.32254817, 40.2467026 , 40.41029888, 39.74869422,\n",
              "       39.94136222, 39.5559348 , 40.46591403, 40.53152358, 40.02362139,\n",
              "       40.08973488, 40.41748045, 39.76468754, 39.83211144, 39.47547846,\n",
              "       40.1743587 , 40.38473393, 39.27663119, 40.00906465, 40.54991937,\n",
              "       39.63193752, 39.53507683, 40.72479363, 40.39610683, 40.22001634,\n",
              "       40.92479985, 40.49601169, 40.10805976, 39.83226463, 40.7898904 ,\n",
              "       39.60936887, 40.1970831 , 38.84532092, 39.88253844, 40.53339044,\n",
              "       39.1960692 , 39.69285462, 40.35442048, 39.43250824, 40.81559813,\n",
              "       40.33773245, 40.27166917, 39.17962136, 39.97467683, 40.08689938,\n",
              "       39.18033407, 39.68511911, 39.09895717, 40.16597531, 39.4781581 ,\n",
              "       40.37869108, 39.81656047, 39.94595559, 39.85513459, 41.46723514,\n",
              "       39.24123318, 40.18804886, 39.88996833, 39.45122008, 41.01696472,\n",
              "       39.91139278, 39.22844492, 39.65868224, 39.25836884, 39.41846495,\n",
              "       39.90434639, 39.56176588, 40.73528525, 40.23376803, 39.72249012,\n",
              "       38.97389736, 39.19754334, 39.52669345, 40.76812986, 40.41657964,\n",
              "       40.44503868, 40.71319037, 40.60525426, 39.79669043, 40.32790338,\n",
              "       39.52835554, 40.7288626 , 40.70323858, 39.72721238, 39.9934597 ,\n",
              "       40.46097819, 39.91307952, 40.55000339, 39.82478826, 39.98049675,\n",
              "       40.28061989, 39.82258149, 40.62700437, 40.44619039, 40.01627451,\n",
              "       39.50282255, 40.00735525, 40.04874495, 39.90715385, 39.91144681,\n",
              "       41.21981176, 40.33412999, 40.2372769 , 40.85500548, 39.51636507])"
            ]
          },
          "metadata": {
            "tags": []
          },
          "execution_count": 28
        }
      ]
    },
    {
      "cell_type": "code",
      "metadata": {
        "colab": {
          "base_uri": "https://localhost:8080/"
        },
        "id": "mX2iKeHswfL-",
        "outputId": "86a2264f-31ca-49a1-cd07-53f2e6839395"
      },
      "source": [
        "array.mean()"
      ],
      "execution_count": null,
      "outputs": [
        {
          "output_type": "execute_result",
          "data": {
            "text/plain": [
              "40.02575620276213"
            ]
          },
          "metadata": {
            "tags": []
          },
          "execution_count": 29
        }
      ]
    },
    {
      "cell_type": "code",
      "metadata": {
        "colab": {
          "base_uri": "https://localhost:8080/"
        },
        "id": "mNOZ9Hfqwn1x",
        "outputId": "cf0028b9-b805-4bb2-b18b-3a80657cba63"
      },
      "source": [
        "np.median(array)"
      ],
      "execution_count": null,
      "outputs": [
        {
          "output_type": "execute_result",
          "data": {
            "text/plain": [
              "40.019947945490664"
            ]
          },
          "metadata": {
            "tags": []
          },
          "execution_count": 32
        }
      ]
    },
    {
      "cell_type": "code",
      "metadata": {
        "colab": {
          "base_uri": "https://localhost:8080/"
        },
        "id": "2EmDPjNhwqqh",
        "outputId": "5e6faede-799d-4b69-cdd0-525b55da84f6"
      },
      "source": [
        "np.std(array)"
      ],
      "execution_count": null,
      "outputs": [
        {
          "output_type": "execute_result",
          "data": {
            "text/plain": [
              "0.4908753640177812"
            ]
          },
          "metadata": {
            "tags": []
          },
          "execution_count": 33
        }
      ]
    },
    {
      "cell_type": "code",
      "metadata": {
        "colab": {
          "base_uri": "https://localhost:8080/"
        },
        "id": "pbuREofswzKx",
        "outputId": "6896b320-b97b-4f5e-a3c4-1d47b5f357ec"
      },
      "source": [
        "np.var(array)"
      ],
      "execution_count": null,
      "outputs": [
        {
          "output_type": "execute_result",
          "data": {
            "text/plain": [
              "0.24095862299958923"
            ]
          },
          "metadata": {
            "tags": []
          },
          "execution_count": 34
        }
      ]
    },
    {
      "cell_type": "markdown",
      "metadata": {
        "id": "eCOZ3sMFw21P"
      },
      "source": [
        "# EX18\n",
        "\n",
        "Com base nos arrays definidos a seguir obtenha a matriz de covariância e a matriz de correlação.\n",
        "\n",
        "\n",
        "\n",
        "`x = np.random.rand(100)`\n",
        "\n",
        "`y = np.random.uniform(size=100)`"
      ]
    },
    {
      "cell_type": "code",
      "metadata": {
        "id": "bQoKwdgZw3s4"
      },
      "source": [
        "x = np.random.rand(100)\n",
        "y = np.random.uniform(size=100)\n"
      ],
      "execution_count": null,
      "outputs": []
    },
    {
      "cell_type": "code",
      "metadata": {
        "colab": {
          "base_uri": "https://localhost:8080/"
        },
        "id": "xzi482qOxBjJ",
        "outputId": "4efc3372-0dd3-41c6-df70-0dbfbf807880"
      },
      "source": [
        "np.corrcoef(x, y)"
      ],
      "execution_count": null,
      "outputs": [
        {
          "output_type": "execute_result",
          "data": {
            "text/plain": [
              "array([[1.        , 0.03647407],\n",
              "       [0.03647407, 1.        ]])"
            ]
          },
          "metadata": {
            "tags": []
          },
          "execution_count": 42
        }
      ]
    },
    {
      "cell_type": "code",
      "metadata": {
        "colab": {
          "base_uri": "https://localhost:8080/"
        },
        "id": "3nn0-t11xHpP",
        "outputId": "0de6c69d-667d-4631-dbd2-041347c7df61"
      },
      "source": [
        "np.cov(x, y)"
      ],
      "execution_count": null,
      "outputs": [
        {
          "output_type": "execute_result",
          "data": {
            "text/plain": [
              "array([[0.09192672, 0.00325326],\n",
              "       [0.00325326, 0.0865423 ]])"
            ]
          },
          "metadata": {
            "tags": []
          },
          "execution_count": 43
        }
      ]
    },
    {
      "cell_type": "markdown",
      "metadata": {
        "id": "dIFbLcFmxZWw"
      },
      "source": [
        "# EX19\n",
        "\n",
        "Obtenha o índice do valor máximo do array A.\n",
        "\n",
        "\n",
        "\n",
        "```\n",
        "A = np.array([[11, 15, 33, 105],\n",
        "              [1, 140, 45, 90],\n",
        "              [67, 230, 78, 99]])\n",
        "```\n",
        "\n"
      ]
    },
    {
      "cell_type": "code",
      "metadata": {
        "colab": {
          "base_uri": "https://localhost:8080/"
        },
        "id": "uwqTOyLwxdc9",
        "outputId": "90ee8003-0ffc-4202-deab-b293b7fb060f"
      },
      "source": [
        "A = np.array([[11, 15, 33, 105],\n",
        "              [1, 140, 45, 90],\n",
        "              [67, 230, 78, 99]])\n",
        "\n",
        "A.argmax()"
      ],
      "execution_count": null,
      "outputs": [
        {
          "output_type": "execute_result",
          "data": {
            "text/plain": [
              "9"
            ]
          },
          "metadata": {
            "tags": []
          },
          "execution_count": 49
        }
      ]
    },
    {
      "cell_type": "markdown",
      "metadata": {
        "id": "nFsTx_EryLd7"
      },
      "source": [
        "# EX20\n",
        "\n",
        "Obtenha o índice do valor mínimo do array B.\n",
        "\n",
        "\n",
        "\n",
        "```\n",
        "B = np.array([\n",
        "    [73, 22, 20, 62,  3],\n",
        "    [68, 84, 27, 59, 93],\n",
        "    [48, 52,  4, 55, 50],\n",
        "    [42, 23, 63, 67,  4],\n",
        "    [44, 30, 41, 31, 29]])\n",
        "```\n",
        "\n"
      ]
    },
    {
      "cell_type": "code",
      "metadata": {
        "colab": {
          "base_uri": "https://localhost:8080/"
        },
        "id": "6PZ4fiukyRnh",
        "outputId": "380a61b3-399c-43e7-9181-02c190acaca1"
      },
      "source": [
        "B = np.array([\n",
        "    [73, 22, 20, 62,  3],\n",
        "    [68, 84, 27, 59, 93],\n",
        "    [48, 52,  4, 55, 50],\n",
        "    [42, 23, 63, 67,  4],\n",
        "    [44, 30, 41, 31, 29]])\n",
        "\n",
        "B.argmin()"
      ],
      "execution_count": null,
      "outputs": [
        {
          "output_type": "execute_result",
          "data": {
            "text/plain": [
              "4"
            ]
          },
          "metadata": {
            "tags": []
          },
          "execution_count": 50
        }
      ]
    },
    {
      "cell_type": "markdown",
      "metadata": {
        "id": "YkTMLXhbyYXB"
      },
      "source": [
        "# EX21\n",
        "\n",
        "Escreva uma função que receba um array NumPy e mostre na tela um conjunto de  estatísticas descritivas deste objeto."
      ]
    },
    {
      "cell_type": "code",
      "metadata": {
        "colab": {
          "base_uri": "https://localhost:8080/"
        },
        "id": "O_MaW3FPyelY",
        "outputId": "34091f81-f6f4-44e6-c7ae-b9b6e3dee861"
      },
      "source": [
        "array = np.array([-57, 101, 270, 130, 144])\n",
        "\n",
        "def info_array(array):\n",
        "    if isinstance(array, np.ndarray):\n",
        "        print(f'Valor máximo: {array.max()}')\n",
        "        print(f'Valor mínimo: {array.min()}')\n",
        "        print(f'Média: {array.mean()}')\n",
        "        print(f'Mediana: {np.median(array)}')\n",
        "        print(f'Variância: {array.var()}')\n",
        "        print(f'Desvio padrão: {array.std()}')\n",
        "\n",
        "\n",
        "info_array(array)"
      ],
      "execution_count": null,
      "outputs": [
        {
          "output_type": "stream",
          "text": [
            "Valor máximo: 270\n",
            "Valor mínimo: -57\n",
            "Média: 117.6\n",
            "Mediana: 130.0\n",
            "Variância: 10967.439999999999\n",
            "Desvio padrão: 104.72554607162475\n"
          ],
          "name": "stdout"
        }
      ]
    },
    {
      "cell_type": "markdown",
      "metadata": {
        "id": "GCytaPclzGYC"
      },
      "source": [
        "# EX22\n",
        "\n",
        "Use a função np.unique() para obter um array com os elementos únicos do array abaixo. Para tanto, armazene o novo array em uma variável.\n",
        "\n",
        "\n",
        "\n",
        "```\n",
        "A = np.array([\n",
        "    [1, 3, 3, 4, 5],\n",
        "    [4, 7, 11, 3, 5],\n",
        "    [1, 11, 4, 4, 11]])\n",
        "```\n",
        "\n"
      ]
    },
    {
      "cell_type": "code",
      "metadata": {
        "colab": {
          "base_uri": "https://localhost:8080/"
        },
        "id": "BfUfuOAFzHUT",
        "outputId": "aab265b6-ddfd-4573-bc44-ec10a669585a"
      },
      "source": [
        "A = np.array([\n",
        "    [1, 3, 3, 4, 5],\n",
        "    [4, 7, 11, 3, 5],\n",
        "    [1, 11, 4, 4, 11]])\n",
        "\n",
        "novo_array = np.unique(A)\n",
        "novo_array"
      ],
      "execution_count": null,
      "outputs": [
        {
          "output_type": "execute_result",
          "data": {
            "text/plain": [
              "array([ 1,  3,  4,  5,  7, 11])"
            ]
          },
          "metadata": {
            "tags": []
          },
          "execution_count": 56
        }
      ]
    },
    {
      "cell_type": "markdown",
      "metadata": {
        "id": "ILwcf5Ne0uG_"
      },
      "source": [
        "# EX23\n",
        "\n",
        "Considerando os arrays abaixo:\n",
        "\n",
        "\n",
        "\n",
        "```\n",
        "array1 = np.array([10, 20, 30, 40])\n",
        "array2 = np.array([100, 30, 5, 1, 40, 100, 20, 130, 155,170])\n",
        "```\n",
        "\n",
        "Obtenha:\n",
        "\n",
        "a) o primeiro, o terceiro e o último elemento de cada array;\n",
        "\n",
        "b) inverta o array;\n",
        "\n",
        "c) pegue o número 20 em ambos os arrays e armazene a soma em uma variável."
      ]
    },
    {
      "cell_type": "code",
      "metadata": {
        "id": "XpsDSOSS0uv1"
      },
      "source": [
        "array1 = np.array([10, 20, 30, 40])\n",
        "array2 = np.array([100, 30, 5, 1, 40, 100, 20, 130, 155,170])\n",
        "arrays = [array1, array2]"
      ],
      "execution_count": null,
      "outputs": []
    },
    {
      "cell_type": "code",
      "metadata": {
        "colab": {
          "base_uri": "https://localhost:8080/"
        },
        "id": "QBOQS1Ve02Xu",
        "outputId": "8a44d1ab-a896-4e58-957e-25186a55d623"
      },
      "source": [
        "for index, array in enumerate(arrays, start=1):\n",
        "    print(f'Array: {index}')\n",
        "    print(f'Primeiro elemento: {array[0]}')\n",
        "    print(f'Terceiro elemento: {array[2]}')\n",
        "    print(f'Último elemento: {array[-1]}')\n",
        "    print(f'Array invertido: {array[::-1]}')\n",
        "\n",
        "soma = array1[1] + array2[6]\n",
        "print(soma)"
      ],
      "execution_count": null,
      "outputs": [
        {
          "output_type": "stream",
          "text": [
            "Array: 1\n",
            "Primeiro elemento: 10\n",
            "Terceiro elemento: 30\n",
            "Último elemento: 40\n",
            "Array invertido: [40 30 20 10]\n",
            "Array: 2\n",
            "Primeiro elemento: 100\n",
            "Terceiro elemento: 5\n",
            "Último elemento: 170\n",
            "Array invertido: [170 155 130  20 100  40   1   5  30 100]\n",
            "40\n"
          ],
          "name": "stdout"
        }
      ]
    },
    {
      "cell_type": "markdown",
      "metadata": {
        "id": "vTSZ8i-x9tuh"
      },
      "source": [
        "# EX24\n",
        "\n",
        "Acesse os números 9 e 90 do array abaixo.\n",
        "\n",
        "\n",
        "`ar = np.array([[-1, 33, 44, 9, 1],[11, 1, 0, 90, 44]])`"
      ]
    },
    {
      "cell_type": "code",
      "metadata": {
        "colab": {
          "base_uri": "https://localhost:8080/"
        },
        "id": "eOdwgZJw9xgq",
        "outputId": "0aaf11ac-6baf-4a7c-fe55-45934bc09eab"
      },
      "source": [
        "ar = np.array([[-1, 33, 44, 9, 1],[11, 1, 0, 90, 44]])\n",
        "ar"
      ],
      "execution_count": null,
      "outputs": [
        {
          "output_type": "execute_result",
          "data": {
            "text/plain": [
              "array([[-1, 33, 44,  9,  1],\n",
              "       [11,  1,  0, 90, 44]])"
            ]
          },
          "metadata": {
            "tags": []
          },
          "execution_count": 81
        }
      ]
    },
    {
      "cell_type": "code",
      "metadata": {
        "colab": {
          "base_uri": "https://localhost:8080/"
        },
        "id": "TZzNN7fI90xq",
        "outputId": "11a3306e-e89c-4f55-e4e2-e94eb7c4bdaa"
      },
      "source": [
        "ar[0, 3]"
      ],
      "execution_count": null,
      "outputs": [
        {
          "output_type": "execute_result",
          "data": {
            "text/plain": [
              "9"
            ]
          },
          "metadata": {
            "tags": []
          },
          "execution_count": 83
        }
      ]
    },
    {
      "cell_type": "code",
      "metadata": {
        "colab": {
          "base_uri": "https://localhost:8080/"
        },
        "id": "jOyL5yMN940C",
        "outputId": "575c7b05-cf49-4f86-88d5-5c043b4042fc"
      },
      "source": [
        "ar[1, 3]"
      ],
      "execution_count": null,
      "outputs": [
        {
          "output_type": "execute_result",
          "data": {
            "text/plain": [
              "90"
            ]
          },
          "metadata": {
            "tags": []
          },
          "execution_count": 84
        }
      ]
    },
    {
      "cell_type": "markdown",
      "metadata": {
        "id": "GGpk_32z-AZX"
      },
      "source": [
        "# EX25\n",
        "\n",
        "Acesse os números 5, 9, 3 e 21 do array abaixo.\n",
        "\n",
        "\n",
        "\n",
        "```\n",
        "ar = np.array([\n",
        "    [[1, 1, 5, 1],\n",
        "     [1, 1, 1, 9]],\n",
        "    [[1, 3, 1, 1],\n",
        "     [1, 1, 21, 1]]\n",
        "              ])\n",
        "```\n",
        "\n"
      ]
    },
    {
      "cell_type": "code",
      "metadata": {
        "colab": {
          "base_uri": "https://localhost:8080/"
        },
        "id": "EFjfbbVk-Guh",
        "outputId": "f38ecd3f-83ad-4005-b42d-f111821c0160"
      },
      "source": [
        "ar = np.array([\n",
        "    [[1, 1, 5, 1],\n",
        "     [1, 1, 1, 9]],\n",
        "    [[1, 3, 1, 1],\n",
        "     [1, 1, 21, 1]]\n",
        "              ])\n",
        "\n",
        "ar"
      ],
      "execution_count": null,
      "outputs": [
        {
          "output_type": "execute_result",
          "data": {
            "text/plain": [
              "array([[[ 1,  1,  5,  1],\n",
              "        [ 1,  1,  1,  9]],\n",
              "\n",
              "       [[ 1,  3,  1,  1],\n",
              "        [ 1,  1, 21,  1]]])"
            ]
          },
          "metadata": {
            "tags": []
          },
          "execution_count": 88
        }
      ]
    },
    {
      "cell_type": "code",
      "metadata": {
        "colab": {
          "base_uri": "https://localhost:8080/"
        },
        "id": "Ekz8Ms7u-H_p",
        "outputId": "737a3708-97a4-4d77-8590-dbfae2165f31"
      },
      "source": [
        "ar[0, 0, 2]"
      ],
      "execution_count": null,
      "outputs": [
        {
          "output_type": "execute_result",
          "data": {
            "text/plain": [
              "5"
            ]
          },
          "metadata": {
            "tags": []
          },
          "execution_count": 92
        }
      ]
    },
    {
      "cell_type": "code",
      "metadata": {
        "colab": {
          "base_uri": "https://localhost:8080/"
        },
        "id": "-14qMNocH-PL",
        "outputId": "cd81a89e-20ab-4c22-eddd-4c0eafb07ba6"
      },
      "source": [
        "ar[0, 1, -1]"
      ],
      "execution_count": null,
      "outputs": [
        {
          "output_type": "execute_result",
          "data": {
            "text/plain": [
              "9"
            ]
          },
          "metadata": {
            "tags": []
          },
          "execution_count": 93
        }
      ]
    },
    {
      "cell_type": "code",
      "metadata": {
        "colab": {
          "base_uri": "https://localhost:8080/"
        },
        "id": "Qpq6IdnTIFhj",
        "outputId": "65792cbc-4f28-42b7-b76c-8e61562e7c29"
      },
      "source": [
        "ar[1, 0, 1]"
      ],
      "execution_count": null,
      "outputs": [
        {
          "output_type": "execute_result",
          "data": {
            "text/plain": [
              "3"
            ]
          },
          "metadata": {
            "tags": []
          },
          "execution_count": 94
        }
      ]
    },
    {
      "cell_type": "code",
      "metadata": {
        "colab": {
          "base_uri": "https://localhost:8080/"
        },
        "id": "Kdl6Qgg1IHhw",
        "outputId": "0929fdf7-f267-4400-91fd-8ea78f1539e2"
      },
      "source": [
        "ar[1, 1, 2]"
      ],
      "execution_count": null,
      "outputs": [
        {
          "output_type": "execute_result",
          "data": {
            "text/plain": [
              "21"
            ]
          },
          "metadata": {
            "tags": []
          },
          "execution_count": 95
        }
      ]
    },
    {
      "cell_type": "markdown",
      "metadata": {
        "id": "lPm4sAXjIOJw"
      },
      "source": [
        "# EX26\n",
        "\n",
        "Com base no array abaixo obtenha o slice do índice 2 até o índice 6.\n",
        "\n",
        "`ar = np.array([1, 2, 3, 4, 5, 6, 7, 8, 9, 10])`\n",
        "\n",
        "Dica: Em Python, slicing significa que podemos selecionar elementos entre índices especificados. Sintaxe: [start:end:pass].\n",
        "\n",
        "Se não especificarmos o start o valor default será 0. Se não definirmos o step, será considerado o valor 1.\n",
        "\n"
      ]
    },
    {
      "cell_type": "code",
      "metadata": {
        "colab": {
          "base_uri": "https://localhost:8080/"
        },
        "id": "nQqBiA18IU8-",
        "outputId": "2f64c4c7-a3fd-4fc4-ac7f-eab9f0822243"
      },
      "source": [
        "ar = np.array([1, 2, 3, 4, 5, 6, 7, 8, 9, 10])\n",
        "ar"
      ],
      "execution_count": null,
      "outputs": [
        {
          "output_type": "execute_result",
          "data": {
            "text/plain": [
              "array([ 1,  2,  3,  4,  5,  6,  7,  8,  9, 10])"
            ]
          },
          "metadata": {
            "tags": []
          },
          "execution_count": 96
        }
      ]
    },
    {
      "cell_type": "code",
      "metadata": {
        "colab": {
          "base_uri": "https://localhost:8080/"
        },
        "id": "i6WdwmAwIYxX",
        "outputId": "0e251d45-f7dc-46b2-9501-1afe2cbe6fc4"
      },
      "source": [
        "ar[2:7]"
      ],
      "execution_count": null,
      "outputs": [
        {
          "output_type": "execute_result",
          "data": {
            "text/plain": [
              "array([3, 4, 5, 6, 7])"
            ]
          },
          "metadata": {
            "tags": []
          },
          "execution_count": 97
        }
      ]
    }
  ]
}
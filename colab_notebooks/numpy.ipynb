{
  "nbformat": 4,
  "nbformat_minor": 0,
  "metadata": {
    "colab": {
      "name": "numpy.ipynb",
      "provenance": []
    },
    "kernelspec": {
      "name": "python3",
      "display_name": "Python 3"
    },
    "language_info": {
      "name": "python"
    }
  },
  "cells": [
    {
      "cell_type": "markdown",
      "metadata": {
        "id": "ilIfKlB_BXmF"
      },
      "source": [
        "# Numpy"
      ]
    },
    {
      "cell_type": "code",
      "metadata": {
        "id": "e90HRS7c56fY"
      },
      "source": [
        "import numpy as np\n",
        "import pandas as pd\n",
        "import matplotlib.pyplot as plt\n",
        "import seaborn as sns"
      ],
      "execution_count": null,
      "outputs": []
    },
    {
      "cell_type": "markdown",
      "metadata": {
        "id": "DAuaegAeBoB7"
      },
      "source": [
        "# Criando Arrays"
      ]
    },
    {
      "cell_type": "code",
      "metadata": {
        "id": "Hql6wg53BkWl"
      },
      "source": [
        "vetor = np.array([1, 2, 3, 4, 5])"
      ],
      "execution_count": null,
      "outputs": []
    },
    {
      "cell_type": "code",
      "metadata": {
        "colab": {
          "base_uri": "https://localhost:8080/"
        },
        "id": "heu-cQEyB0z7",
        "outputId": "20343833-a585-4ea9-f604-5ae8c5bbac71"
      },
      "source": [
        "vetor"
      ],
      "execution_count": null,
      "outputs": [
        {
          "output_type": "execute_result",
          "data": {
            "text/plain": [
              "array([1, 2, 3, 4, 5])"
            ]
          },
          "metadata": {
            "tags": []
          },
          "execution_count": 3
        }
      ]
    },
    {
      "cell_type": "code",
      "metadata": {
        "colab": {
          "base_uri": "https://localhost:8080/"
        },
        "id": "fT-c1VSpB1cS",
        "outputId": "0adc63f1-127e-4e4b-fdfc-fe26e7a56150"
      },
      "source": [
        "type(vetor)"
      ],
      "execution_count": null,
      "outputs": [
        {
          "output_type": "execute_result",
          "data": {
            "text/plain": [
              "numpy.ndarray"
            ]
          },
          "metadata": {
            "tags": []
          },
          "execution_count": 4
        }
      ]
    },
    {
      "cell_type": "code",
      "metadata": {
        "id": "oWMWiS8EB2n6"
      },
      "source": [
        "matriz = np.array([[10, 15, 20], [25, 30, 35], [40, 45, 50]], dtype=float)"
      ],
      "execution_count": null,
      "outputs": []
    },
    {
      "cell_type": "code",
      "metadata": {
        "colab": {
          "base_uri": "https://localhost:8080/"
        },
        "id": "I96YKt0yCGiR",
        "outputId": "7fdf169e-63c9-4c54-9bfa-2c796ae5393e"
      },
      "source": [
        "matriz"
      ],
      "execution_count": null,
      "outputs": [
        {
          "output_type": "execute_result",
          "data": {
            "text/plain": [
              "array([[10., 15., 20.],\n",
              "       [25., 30., 35.],\n",
              "       [40., 45., 50.]])"
            ]
          },
          "metadata": {
            "tags": []
          },
          "execution_count": 9
        }
      ]
    },
    {
      "cell_type": "code",
      "metadata": {
        "colab": {
          "base_uri": "https://localhost:8080/"
        },
        "id": "E9QUZShzCG-w",
        "outputId": "304089e4-ce55-479d-fe48-7c8a78ee724d"
      },
      "source": [
        "np.arange(1, 21, 2)"
      ],
      "execution_count": null,
      "outputs": [
        {
          "output_type": "execute_result",
          "data": {
            "text/plain": [
              "array([ 1,  3,  5,  7,  9, 11, 13, 15, 17, 19])"
            ]
          },
          "metadata": {
            "tags": []
          },
          "execution_count": 12
        }
      ]
    },
    {
      "cell_type": "code",
      "metadata": {
        "colab": {
          "base_uri": "https://localhost:8080/"
        },
        "id": "7dQyf3sMC0Vw",
        "outputId": "8744c993-2dc1-42d3-ca74-aeb83db032f9"
      },
      "source": [
        "np.zeros(10)"
      ],
      "execution_count": null,
      "outputs": [
        {
          "output_type": "execute_result",
          "data": {
            "text/plain": [
              "array([0., 0., 0., 0., 0., 0., 0., 0., 0., 0.])"
            ]
          },
          "metadata": {
            "tags": []
          },
          "execution_count": 14
        }
      ]
    },
    {
      "cell_type": "code",
      "metadata": {
        "colab": {
          "base_uri": "https://localhost:8080/"
        },
        "id": "CJzft38bC3ut",
        "outputId": "1c2f27b4-01b0-417b-b39c-0487ede4eb82"
      },
      "source": [
        "np.zeros(shape=(5,5))"
      ],
      "execution_count": null,
      "outputs": [
        {
          "output_type": "execute_result",
          "data": {
            "text/plain": [
              "array([[0., 0., 0., 0., 0.],\n",
              "       [0., 0., 0., 0., 0.],\n",
              "       [0., 0., 0., 0., 0.],\n",
              "       [0., 0., 0., 0., 0.],\n",
              "       [0., 0., 0., 0., 0.]])"
            ]
          },
          "metadata": {
            "tags": []
          },
          "execution_count": 16
        }
      ]
    },
    {
      "cell_type": "code",
      "metadata": {
        "colab": {
          "base_uri": "https://localhost:8080/"
        },
        "id": "ZcX8SJAVDAZU",
        "outputId": "20815251-1a8e-42b4-b8f0-bc8b4d272cc9"
      },
      "source": [
        "np.ones(shape=(5, 5))"
      ],
      "execution_count": null,
      "outputs": [
        {
          "output_type": "execute_result",
          "data": {
            "text/plain": [
              "array([[1., 1., 1., 1., 1.],\n",
              "       [1., 1., 1., 1., 1.],\n",
              "       [1., 1., 1., 1., 1.],\n",
              "       [1., 1., 1., 1., 1.],\n",
              "       [1., 1., 1., 1., 1.]])"
            ]
          },
          "metadata": {
            "tags": []
          },
          "execution_count": 18
        }
      ]
    },
    {
      "cell_type": "code",
      "metadata": {
        "colab": {
          "base_uri": "https://localhost:8080/"
        },
        "id": "DqNEm_kEDNor",
        "outputId": "72106791-cb4c-4a38-f067-f9e33161060e"
      },
      "source": [
        "np.identity(5)"
      ],
      "execution_count": null,
      "outputs": [
        {
          "output_type": "execute_result",
          "data": {
            "text/plain": [
              "array([[1., 0., 0., 0., 0.],\n",
              "       [0., 1., 0., 0., 0.],\n",
              "       [0., 0., 1., 0., 0.],\n",
              "       [0., 0., 0., 1., 0.],\n",
              "       [0., 0., 0., 0., 1.]])"
            ]
          },
          "metadata": {
            "tags": []
          },
          "execution_count": 22
        }
      ]
    },
    {
      "cell_type": "code",
      "metadata": {
        "colab": {
          "base_uri": "https://localhost:8080/"
        },
        "id": "m8q7hzFbDUaz",
        "outputId": "84a9914e-342b-49d7-d53d-a718cbdbcde4"
      },
      "source": [
        "np.full(10, 1)"
      ],
      "execution_count": null,
      "outputs": [
        {
          "output_type": "execute_result",
          "data": {
            "text/plain": [
              "array([1, 1, 1, 1, 1, 1, 1, 1, 1, 1])"
            ]
          },
          "metadata": {
            "tags": []
          },
          "execution_count": 25
        }
      ]
    },
    {
      "cell_type": "code",
      "metadata": {
        "colab": {
          "base_uri": "https://localhost:8080/"
        },
        "id": "kXPVuwZtDj8R",
        "outputId": "903dc1c4-c562-417d-dd9a-82a105453e78"
      },
      "source": [
        "np.full(shape=(5, 5), fill_value = 10)"
      ],
      "execution_count": null,
      "outputs": [
        {
          "output_type": "execute_result",
          "data": {
            "text/plain": [
              "array([[10, 10, 10, 10, 10],\n",
              "       [10, 10, 10, 10, 10],\n",
              "       [10, 10, 10, 10, 10],\n",
              "       [10, 10, 10, 10, 10],\n",
              "       [10, 10, 10, 10, 10]])"
            ]
          },
          "metadata": {
            "tags": []
          },
          "execution_count": 28
        }
      ]
    },
    {
      "cell_type": "code",
      "metadata": {
        "colab": {
          "base_uri": "https://localhost:8080/"
        },
        "id": "h7_znkVQDx85",
        "outputId": "a0e9fd3b-1cec-4515-95a6-1f67cf905993"
      },
      "source": [
        "np.empty(shape=(5,5))"
      ],
      "execution_count": null,
      "outputs": [
        {
          "output_type": "execute_result",
          "data": {
            "text/plain": [
              "array([[0., 0., 0., 0., 0.],\n",
              "       [0., 0., 0., 0., 0.],\n",
              "       [0., 0., 0., 0., 0.],\n",
              "       [0., 0., 0., 0., 0.],\n",
              "       [0., 0., 0., 0., 0.]])"
            ]
          },
          "metadata": {
            "tags": []
          },
          "execution_count": 29
        }
      ]
    },
    {
      "cell_type": "markdown",
      "metadata": {
        "id": "otvAifICEDov"
      },
      "source": [
        "# Inspecionando Arrays"
      ]
    },
    {
      "cell_type": "code",
      "metadata": {
        "id": "xK6owMctEFV-"
      },
      "source": [
        "vetor = np.array([10, 15, 20, 30])"
      ],
      "execution_count": null,
      "outputs": []
    },
    {
      "cell_type": "code",
      "metadata": {
        "colab": {
          "base_uri": "https://localhost:8080/"
        },
        "id": "83A3QlI-EJWu",
        "outputId": "143c1999-93f0-4ef0-bac2-58ba3edf7758"
      },
      "source": [
        "vetor"
      ],
      "execution_count": null,
      "outputs": [
        {
          "output_type": "execute_result",
          "data": {
            "text/plain": [
              "array([10, 15, 20, 30])"
            ]
          },
          "metadata": {
            "tags": []
          },
          "execution_count": 31
        }
      ]
    },
    {
      "cell_type": "code",
      "metadata": {
        "colab": {
          "base_uri": "https://localhost:8080/"
        },
        "id": "eJ8Ee90zEKX-",
        "outputId": "23f4d472-17c7-4257-a88d-ab6ddc2359b0"
      },
      "source": [
        "vetor.shape"
      ],
      "execution_count": null,
      "outputs": [
        {
          "output_type": "execute_result",
          "data": {
            "text/plain": [
              "(4,)"
            ]
          },
          "metadata": {
            "tags": []
          },
          "execution_count": 32
        }
      ]
    },
    {
      "cell_type": "code",
      "metadata": {
        "colab": {
          "base_uri": "https://localhost:8080/"
        },
        "id": "rY-xUCMDELuu",
        "outputId": "2835cbf2-01a9-4cb9-ea0d-d62495178e48"
      },
      "source": [
        "len(vetor)"
      ],
      "execution_count": null,
      "outputs": [
        {
          "output_type": "execute_result",
          "data": {
            "text/plain": [
              "4"
            ]
          },
          "metadata": {
            "tags": []
          },
          "execution_count": 33
        }
      ]
    },
    {
      "cell_type": "code",
      "metadata": {
        "colab": {
          "base_uri": "https://localhost:8080/"
        },
        "id": "OGPirnZmEM-2",
        "outputId": "adbfcdd5-8173-4766-e839-8bda8106794e"
      },
      "source": [
        "vetor.ndim"
      ],
      "execution_count": null,
      "outputs": [
        {
          "output_type": "execute_result",
          "data": {
            "text/plain": [
              "1"
            ]
          },
          "metadata": {
            "tags": []
          },
          "execution_count": 34
        }
      ]
    },
    {
      "cell_type": "code",
      "metadata": {
        "colab": {
          "base_uri": "https://localhost:8080/"
        },
        "id": "DJn4Yox_EPWu",
        "outputId": "3e1e864e-ea13-41c9-aa9f-d429cafe37c0"
      },
      "source": [
        "vetor.size"
      ],
      "execution_count": null,
      "outputs": [
        {
          "output_type": "execute_result",
          "data": {
            "text/plain": [
              "4"
            ]
          },
          "metadata": {
            "tags": []
          },
          "execution_count": 35
        }
      ]
    },
    {
      "cell_type": "code",
      "metadata": {
        "colab": {
          "base_uri": "https://localhost:8080/"
        },
        "id": "fgimCDZZESCd",
        "outputId": "7f2c1edd-1a0c-47eb-d399-fb467be9698e"
      },
      "source": [
        "vetor.dtype"
      ],
      "execution_count": null,
      "outputs": [
        {
          "output_type": "execute_result",
          "data": {
            "text/plain": [
              "dtype('int64')"
            ]
          },
          "metadata": {
            "tags": []
          },
          "execution_count": 36
        }
      ]
    },
    {
      "cell_type": "code",
      "metadata": {
        "colab": {
          "base_uri": "https://localhost:8080/"
        },
        "id": "SIBK_7vRESvN",
        "outputId": "b272ede5-9418-4ee7-cecf-252dd69a7d5e"
      },
      "source": [
        "vetor.astype(float)"
      ],
      "execution_count": null,
      "outputs": [
        {
          "output_type": "execute_result",
          "data": {
            "text/plain": [
              "array([10., 15., 20., 30.])"
            ]
          },
          "metadata": {
            "tags": []
          },
          "execution_count": 37
        }
      ]
    },
    {
      "cell_type": "markdown",
      "metadata": {
        "id": "o3AsLV6IEpQ_"
      },
      "source": [
        "# Operações Matemáticas"
      ]
    },
    {
      "cell_type": "code",
      "metadata": {
        "id": "3YzJd9byErBD"
      },
      "source": [
        "vetor1 = np.array([2, 4, 1])\n",
        "vetor2 = np.array([1, 3, 2])"
      ],
      "execution_count": null,
      "outputs": []
    },
    {
      "cell_type": "code",
      "metadata": {
        "colab": {
          "base_uri": "https://localhost:8080/"
        },
        "id": "V1UD5c7CFRra",
        "outputId": "c352c195-ff5a-4179-eac5-4f72266368a3"
      },
      "source": [
        "soma = vetor1 + vetor2\n",
        "soma"
      ],
      "execution_count": null,
      "outputs": [
        {
          "output_type": "execute_result",
          "data": {
            "text/plain": [
              "array([3, 7, 3])"
            ]
          },
          "metadata": {
            "tags": []
          },
          "execution_count": 40
        }
      ]
    },
    {
      "cell_type": "code",
      "metadata": {
        "colab": {
          "base_uri": "https://localhost:8080/"
        },
        "id": "DZE-fDCTFTxY",
        "outputId": "01c1104b-5dd0-4edf-e481-95991880fbbe"
      },
      "source": [
        "subtracao = vetor1 - vetor2\n",
        "subtracao"
      ],
      "execution_count": null,
      "outputs": [
        {
          "output_type": "execute_result",
          "data": {
            "text/plain": [
              "array([ 1,  1, -1])"
            ]
          },
          "metadata": {
            "tags": []
          },
          "execution_count": 41
        }
      ]
    },
    {
      "cell_type": "code",
      "metadata": {
        "colab": {
          "base_uri": "https://localhost:8080/"
        },
        "id": "ZoFCf1tyFcyY",
        "outputId": "7d1f3516-9cd0-43db-f549-e3bbf647684d"
      },
      "source": [
        "divisao = vetor1 / vetor2\n",
        "divisao"
      ],
      "execution_count": null,
      "outputs": [
        {
          "output_type": "execute_result",
          "data": {
            "text/plain": [
              "array([2.        , 1.33333333, 0.5       ])"
            ]
          },
          "metadata": {
            "tags": []
          },
          "execution_count": 42
        }
      ]
    },
    {
      "cell_type": "code",
      "metadata": {
        "colab": {
          "base_uri": "https://localhost:8080/"
        },
        "id": "APWN6X_VFhr_",
        "outputId": "8205433d-f65c-479a-e88a-f8d6e329575a"
      },
      "source": [
        "multiplicacao = vetor1 * vetor2\n",
        "multiplicacao"
      ],
      "execution_count": null,
      "outputs": [
        {
          "output_type": "execute_result",
          "data": {
            "text/plain": [
              "array([ 2, 12,  2])"
            ]
          },
          "metadata": {
            "tags": []
          },
          "execution_count": 43
        }
      ]
    },
    {
      "cell_type": "code",
      "metadata": {
        "colab": {
          "base_uri": "https://localhost:8080/"
        },
        "id": "4vkBMefPFlgP",
        "outputId": "0faa27c9-35f5-4985-a1f9-73935cf558f5"
      },
      "source": [
        "matriz1 = np.array([[1, 2], [3, 4]])\n",
        "matriz2 = np.array([[1, 1], [2, 2]])\n",
        "matriz1"
      ],
      "execution_count": null,
      "outputs": [
        {
          "output_type": "execute_result",
          "data": {
            "text/plain": [
              "array([[1, 2],\n",
              "       [3, 4]])"
            ]
          },
          "metadata": {
            "tags": []
          },
          "execution_count": 44
        }
      ]
    },
    {
      "cell_type": "code",
      "metadata": {
        "colab": {
          "base_uri": "https://localhost:8080/"
        },
        "id": "Yu566HtNGJM3",
        "outputId": "5a220a17-eb69-455d-f345-d112e3dbea3e"
      },
      "source": [
        "matriz2"
      ],
      "execution_count": null,
      "outputs": [
        {
          "output_type": "execute_result",
          "data": {
            "text/plain": [
              "array([[1, 1],\n",
              "       [2, 2]])"
            ]
          },
          "metadata": {
            "tags": []
          },
          "execution_count": 45
        }
      ]
    },
    {
      "cell_type": "code",
      "metadata": {
        "colab": {
          "base_uri": "https://localhost:8080/"
        },
        "id": "x04Sj81aGJyU",
        "outputId": "d2b7297f-eb97-48d1-b007-e7c6dc17061e"
      },
      "source": [
        "matriz1 + matriz2"
      ],
      "execution_count": null,
      "outputs": [
        {
          "output_type": "execute_result",
          "data": {
            "text/plain": [
              "array([[2, 3],\n",
              "       [5, 6]])"
            ]
          },
          "metadata": {
            "tags": []
          },
          "execution_count": 46
        }
      ]
    },
    {
      "cell_type": "code",
      "metadata": {
        "colab": {
          "base_uri": "https://localhost:8080/"
        },
        "id": "MFoiH_PSGYA7",
        "outputId": "f156c0ec-6573-4836-b511-959006068613"
      },
      "source": [
        "matriz1 * 3"
      ],
      "execution_count": null,
      "outputs": [
        {
          "output_type": "execute_result",
          "data": {
            "text/plain": [
              "array([[ 3,  6],\n",
              "       [ 9, 12]])"
            ]
          },
          "metadata": {
            "tags": []
          },
          "execution_count": 47
        }
      ]
    },
    {
      "cell_type": "code",
      "metadata": {
        "colab": {
          "base_uri": "https://localhost:8080/"
        },
        "id": "hymmI6szGZDj",
        "outputId": "e4eaad80-4211-4284-d135-d27becca1815"
      },
      "source": [
        "matriz1 @ matriz2"
      ],
      "execution_count": null,
      "outputs": [
        {
          "output_type": "execute_result",
          "data": {
            "text/plain": [
              "array([[ 5,  5],\n",
              "       [11, 11]])"
            ]
          },
          "metadata": {
            "tags": []
          },
          "execution_count": 49
        }
      ]
    },
    {
      "cell_type": "code",
      "metadata": {
        "colab": {
          "base_uri": "https://localhost:8080/"
        },
        "id": "I-0-95_qGjv8",
        "outputId": "448de355-89d3-4b5f-f0e8-341931d636a8"
      },
      "source": [
        "matriz1 * matriz2"
      ],
      "execution_count": null,
      "outputs": [
        {
          "output_type": "execute_result",
          "data": {
            "text/plain": [
              "array([[1, 2],\n",
              "       [6, 8]])"
            ]
          },
          "metadata": {
            "tags": []
          },
          "execution_count": 50
        }
      ]
    },
    {
      "cell_type": "markdown",
      "metadata": {
        "id": "_mDBnT3EHihi"
      },
      "source": [
        "# Operações lógicas"
      ]
    },
    {
      "cell_type": "code",
      "metadata": {
        "id": "oW58nqtzHkCe"
      },
      "source": [
        "a = np.array([10, 15, 20])\n",
        "b = np.array([10, 18, 21])"
      ],
      "execution_count": null,
      "outputs": []
    },
    {
      "cell_type": "code",
      "metadata": {
        "colab": {
          "base_uri": "https://localhost:8080/"
        },
        "id": "ts4wr39THqAu",
        "outputId": "cb4d0f38-7c7a-4777-a095-7637159285c6"
      },
      "source": [
        "a == b"
      ],
      "execution_count": null,
      "outputs": [
        {
          "output_type": "execute_result",
          "data": {
            "text/plain": [
              "array([ True, False, False])"
            ]
          },
          "metadata": {
            "tags": []
          },
          "execution_count": 52
        }
      ]
    },
    {
      "cell_type": "code",
      "metadata": {
        "colab": {
          "base_uri": "https://localhost:8080/"
        },
        "id": "cn01h9IrHq0N",
        "outputId": "3800c30c-b2fe-48db-867c-954e2572379a"
      },
      "source": [
        "a != b"
      ],
      "execution_count": null,
      "outputs": [
        {
          "output_type": "execute_result",
          "data": {
            "text/plain": [
              "array([False,  True,  True])"
            ]
          },
          "metadata": {
            "tags": []
          },
          "execution_count": 53
        }
      ]
    },
    {
      "cell_type": "code",
      "metadata": {
        "colab": {
          "base_uri": "https://localhost:8080/"
        },
        "id": "1ALzll-1HuXQ",
        "outputId": "e120f7ee-0954-4646-cbbf-61755d4b8aab"
      },
      "source": [
        "a > b"
      ],
      "execution_count": null,
      "outputs": [
        {
          "output_type": "execute_result",
          "data": {
            "text/plain": [
              "array([False, False, False])"
            ]
          },
          "metadata": {
            "tags": []
          },
          "execution_count": 54
        }
      ]
    },
    {
      "cell_type": "code",
      "metadata": {
        "colab": {
          "base_uri": "https://localhost:8080/"
        },
        "id": "c645yWYoHwdM",
        "outputId": "41d5da1f-f01c-4733-8071-333a43920cb0"
      },
      "source": [
        "a < b"
      ],
      "execution_count": null,
      "outputs": [
        {
          "output_type": "execute_result",
          "data": {
            "text/plain": [
              "array([False,  True,  True])"
            ]
          },
          "metadata": {
            "tags": []
          },
          "execution_count": 55
        }
      ]
    },
    {
      "cell_type": "code",
      "metadata": {
        "colab": {
          "base_uri": "https://localhost:8080/"
        },
        "id": "pfzvg8xMHxMM",
        "outputId": "62f6dc96-e718-461a-888c-71c079545981"
      },
      "source": [
        "np.array_equal(a, b)"
      ],
      "execution_count": null,
      "outputs": [
        {
          "output_type": "execute_result",
          "data": {
            "text/plain": [
              "False"
            ]
          },
          "metadata": {
            "tags": []
          },
          "execution_count": 56
        }
      ]
    },
    {
      "cell_type": "markdown",
      "metadata": {
        "id": "K9pACkntIFgy"
      },
      "source": [
        "# Funções de agregação"
      ]
    },
    {
      "cell_type": "code",
      "metadata": {
        "id": "ahgxP6xzIHEK"
      },
      "source": [
        "vetor = np.arange(1, 21)"
      ],
      "execution_count": null,
      "outputs": []
    },
    {
      "cell_type": "code",
      "metadata": {
        "colab": {
          "base_uri": "https://localhost:8080/"
        },
        "id": "HInxfskYIJKa",
        "outputId": "6886d6b7-d2dc-45b5-baf5-85c99ed241ab"
      },
      "source": [
        "vetor"
      ],
      "execution_count": null,
      "outputs": [
        {
          "output_type": "execute_result",
          "data": {
            "text/plain": [
              "array([ 1,  2,  3,  4,  5,  6,  7,  8,  9, 10, 11, 12, 13, 14, 15, 16, 17,\n",
              "       18, 19, 20])"
            ]
          },
          "metadata": {
            "tags": []
          },
          "execution_count": 59
        }
      ]
    },
    {
      "cell_type": "code",
      "metadata": {
        "colab": {
          "base_uri": "https://localhost:8080/"
        },
        "id": "gDO6aqwaILJi",
        "outputId": "e87b2999-421a-4ce1-de6a-308c4d440176"
      },
      "source": [
        "vetor.sum()"
      ],
      "execution_count": null,
      "outputs": [
        {
          "output_type": "execute_result",
          "data": {
            "text/plain": [
              "210"
            ]
          },
          "metadata": {
            "tags": []
          },
          "execution_count": 60
        }
      ]
    },
    {
      "cell_type": "code",
      "metadata": {
        "colab": {
          "base_uri": "https://localhost:8080/"
        },
        "id": "--lvBFePIMzb",
        "outputId": "340b3bf5-7b08-4908-f2be-9b271d507bf2"
      },
      "source": [
        "vetor.min()"
      ],
      "execution_count": null,
      "outputs": [
        {
          "output_type": "execute_result",
          "data": {
            "text/plain": [
              "1"
            ]
          },
          "metadata": {
            "tags": []
          },
          "execution_count": 61
        }
      ]
    },
    {
      "cell_type": "code",
      "metadata": {
        "colab": {
          "base_uri": "https://localhost:8080/"
        },
        "id": "BuC0lhxaIO1q",
        "outputId": "1587302b-34a5-4e70-e611-f1bbf2a92e79"
      },
      "source": [
        "vetor.max()"
      ],
      "execution_count": null,
      "outputs": [
        {
          "output_type": "execute_result",
          "data": {
            "text/plain": [
              "20"
            ]
          },
          "metadata": {
            "tags": []
          },
          "execution_count": 62
        }
      ]
    },
    {
      "cell_type": "code",
      "metadata": {
        "colab": {
          "base_uri": "https://localhost:8080/"
        },
        "id": "T9mwTpdYIPta",
        "outputId": "97710f6f-4e34-45ae-a3c1-156f302f15b7"
      },
      "source": [
        "vetor.mean()"
      ],
      "execution_count": null,
      "outputs": [
        {
          "output_type": "execute_result",
          "data": {
            "text/plain": [
              "10.5"
            ]
          },
          "metadata": {
            "tags": []
          },
          "execution_count": 63
        }
      ]
    },
    {
      "cell_type": "code",
      "metadata": {
        "colab": {
          "base_uri": "https://localhost:8080/"
        },
        "id": "7s0F-dduIWJg",
        "outputId": "741441b6-7d57-4222-9618-24a49a3026e8"
      },
      "source": [
        "np.median(vetor)"
      ],
      "execution_count": null,
      "outputs": [
        {
          "output_type": "execute_result",
          "data": {
            "text/plain": [
              "10.5"
            ]
          },
          "metadata": {
            "tags": []
          },
          "execution_count": 65
        }
      ]
    },
    {
      "cell_type": "code",
      "metadata": {
        "colab": {
          "base_uri": "https://localhost:8080/"
        },
        "id": "On26tNiUIW3i",
        "outputId": "eaf94032-a630-41f0-c8b8-bb283c8f1938"
      },
      "source": [
        "np.std(vetor)"
      ],
      "execution_count": null,
      "outputs": [
        {
          "output_type": "execute_result",
          "data": {
            "text/plain": [
              "5.766281297335398"
            ]
          },
          "metadata": {
            "tags": []
          },
          "execution_count": 66
        }
      ]
    },
    {
      "cell_type": "code",
      "metadata": {
        "colab": {
          "base_uri": "https://localhost:8080/"
        },
        "id": "EpVjsFTcIpo_",
        "outputId": "19bf12a1-f0be-4b19-ce41-d07bef825552"
      },
      "source": [
        "np.var(vetor)"
      ],
      "execution_count": null,
      "outputs": [
        {
          "output_type": "execute_result",
          "data": {
            "text/plain": [
              "33.25"
            ]
          },
          "metadata": {
            "tags": []
          },
          "execution_count": 67
        }
      ]
    },
    {
      "cell_type": "code",
      "metadata": {
        "colab": {
          "base_uri": "https://localhost:8080/"
        },
        "id": "U2qAy115Iqtv",
        "outputId": "71fc388d-3d0f-47a9-fc88-6130aa9ed409"
      },
      "source": [
        "matriz = np.array([[2, 11, 15], [20, 21, 17], [90, 15, 13]])\n",
        "matriz"
      ],
      "execution_count": null,
      "outputs": [
        {
          "output_type": "execute_result",
          "data": {
            "text/plain": [
              "array([[ 2, 11, 15],\n",
              "       [20, 21, 17],\n",
              "       [90, 15, 13]])"
            ]
          },
          "metadata": {
            "tags": []
          },
          "execution_count": 68
        }
      ]
    },
    {
      "cell_type": "code",
      "metadata": {
        "colab": {
          "base_uri": "https://localhost:8080/"
        },
        "id": "QrA-oZZ7I1HH",
        "outputId": "0fa20991-3600-4745-dadb-63ec6bb10450"
      },
      "source": [
        "np.corrcoef(matriz)"
      ],
      "execution_count": null,
      "outputs": [
        {
          "output_type": "execute_result",
          "data": {
            "text/plain": [
              "array([[ 1.        , -0.55313398, -0.96041719],\n",
              "       [-0.55313398,  1.        ,  0.29916848],\n",
              "       [-0.96041719,  0.29916848,  1.        ]])"
            ]
          },
          "metadata": {
            "tags": []
          },
          "execution_count": 69
        }
      ]
    },
    {
      "cell_type": "markdown",
      "metadata": {
        "id": "mvMpzt27JE6W"
      },
      "source": [
        "# Ordenando arrays"
      ]
    },
    {
      "cell_type": "code",
      "metadata": {
        "colab": {
          "base_uri": "https://localhost:8080/"
        },
        "id": "oqofzwxXJGod",
        "outputId": "52681bfc-a44c-41fd-9774-1fac5c504a9d"
      },
      "source": [
        "vetor = np.array([18, 15, 1, -3, 4])\n",
        "vetor"
      ],
      "execution_count": null,
      "outputs": [
        {
          "output_type": "execute_result",
          "data": {
            "text/plain": [
              "array([18, 15,  1, -3,  4])"
            ]
          },
          "metadata": {
            "tags": []
          },
          "execution_count": 71
        }
      ]
    },
    {
      "cell_type": "code",
      "metadata": {
        "id": "2qVlCZEZJKJF"
      },
      "source": [
        "vetor.sort()"
      ],
      "execution_count": null,
      "outputs": []
    },
    {
      "cell_type": "code",
      "metadata": {
        "colab": {
          "base_uri": "https://localhost:8080/"
        },
        "id": "kX2xqg_gJNJ8",
        "outputId": "4b4b67f8-e6c3-4e9c-9580-e00f36fa9da7"
      },
      "source": [
        "vetor"
      ],
      "execution_count": null,
      "outputs": [
        {
          "output_type": "execute_result",
          "data": {
            "text/plain": [
              "array([-3,  1,  4, 15, 18])"
            ]
          },
          "metadata": {
            "tags": []
          },
          "execution_count": 73
        }
      ]
    },
    {
      "cell_type": "markdown",
      "metadata": {
        "id": "xyUSBNE5JPj_"
      },
      "source": [
        "# Subsetting, Slicing, Indexing"
      ]
    },
    {
      "cell_type": "code",
      "metadata": {
        "id": "71av0bpsJSMT"
      },
      "source": [
        "vetor = np.array([1, 2, 3])"
      ],
      "execution_count": null,
      "outputs": []
    },
    {
      "cell_type": "code",
      "metadata": {
        "colab": {
          "base_uri": "https://localhost:8080/"
        },
        "id": "YxWbau5mJfFL",
        "outputId": "d260de76-8fb2-4050-d957-4d097f556dfe"
      },
      "source": [
        "vetor[2]"
      ],
      "execution_count": null,
      "outputs": [
        {
          "output_type": "execute_result",
          "data": {
            "text/plain": [
              "3"
            ]
          },
          "metadata": {
            "tags": []
          },
          "execution_count": 75
        }
      ]
    },
    {
      "cell_type": "code",
      "metadata": {
        "colab": {
          "base_uri": "https://localhost:8080/"
        },
        "id": "kHrGiymyJfnK",
        "outputId": "e8a06af0-2236-4bb8-ac12-a55e57b94d78"
      },
      "source": [
        "vetor[0]"
      ],
      "execution_count": null,
      "outputs": [
        {
          "output_type": "execute_result",
          "data": {
            "text/plain": [
              "1"
            ]
          },
          "metadata": {
            "tags": []
          },
          "execution_count": 76
        }
      ]
    },
    {
      "cell_type": "code",
      "metadata": {
        "colab": {
          "base_uri": "https://localhost:8080/"
        },
        "id": "TIMjYRZEJgMi",
        "outputId": "020c1095-db1d-4289-efaf-2855868bca55"
      },
      "source": [
        "matriz = np.array([[1, 2, 3], [4, 5, 6]])\n",
        "matriz"
      ],
      "execution_count": null,
      "outputs": [
        {
          "output_type": "execute_result",
          "data": {
            "text/plain": [
              "array([[1, 2, 3],\n",
              "       [4, 5, 6]])"
            ]
          },
          "metadata": {
            "tags": []
          },
          "execution_count": 77
        }
      ]
    },
    {
      "cell_type": "code",
      "metadata": {
        "colab": {
          "base_uri": "https://localhost:8080/"
        },
        "id": "3DTEP3CvJlLS",
        "outputId": "b4d2aac6-07ae-4efb-c9d4-1f14767eedc4"
      },
      "source": [
        "matriz[1, 0:2]"
      ],
      "execution_count": null,
      "outputs": [
        {
          "output_type": "execute_result",
          "data": {
            "text/plain": [
              "array([4, 5])"
            ]
          },
          "metadata": {
            "tags": []
          },
          "execution_count": 78
        }
      ]
    },
    {
      "cell_type": "code",
      "metadata": {
        "colab": {
          "base_uri": "https://localhost:8080/"
        },
        "id": "-spM62YeJrvi",
        "outputId": "4cf5ead8-5a5c-445a-c1ac-216df0cc6d0b"
      },
      "source": [
        "matriz[:, 1]"
      ],
      "execution_count": null,
      "outputs": [
        {
          "output_type": "execute_result",
          "data": {
            "text/plain": [
              "array([2, 5])"
            ]
          },
          "metadata": {
            "tags": []
          },
          "execution_count": 79
        }
      ]
    },
    {
      "cell_type": "code",
      "metadata": {
        "colab": {
          "base_uri": "https://localhost:8080/"
        },
        "id": "0DJiH05RKLov",
        "outputId": "99ee7c20-8e57-4753-8dcd-57dea64f6919"
      },
      "source": [
        "vetor[::-1]"
      ],
      "execution_count": null,
      "outputs": [
        {
          "output_type": "execute_result",
          "data": {
            "text/plain": [
              "array([3, 2, 1])"
            ]
          },
          "metadata": {
            "tags": []
          },
          "execution_count": 80
        }
      ]
    },
    {
      "cell_type": "code",
      "metadata": {
        "colab": {
          "base_uri": "https://localhost:8080/"
        },
        "id": "-1ICXvZyKZF_",
        "outputId": "faf7abd3-0d77-4fe1-a309-7189eaad5380"
      },
      "source": [
        "vetor[-1]"
      ],
      "execution_count": null,
      "outputs": [
        {
          "output_type": "execute_result",
          "data": {
            "text/plain": [
              "3"
            ]
          },
          "metadata": {
            "tags": []
          },
          "execution_count": 81
        }
      ]
    },
    {
      "cell_type": "code",
      "metadata": {
        "colab": {
          "base_uri": "https://localhost:8080/"
        },
        "id": "Z2-DLzFwKaCP",
        "outputId": "2e50611e-be36-4938-fa5c-6deaaff25135"
      },
      "source": [
        "vetor[vetor > 2]"
      ],
      "execution_count": null,
      "outputs": [
        {
          "output_type": "execute_result",
          "data": {
            "text/plain": [
              "array([3])"
            ]
          },
          "metadata": {
            "tags": []
          },
          "execution_count": 82
        }
      ]
    },
    {
      "cell_type": "markdown",
      "metadata": {
        "id": "V2Xhs3rcK1k0"
      },
      "source": [
        "# Manipulação de Array"
      ]
    },
    {
      "cell_type": "code",
      "metadata": {
        "colab": {
          "base_uri": "https://localhost:8080/"
        },
        "id": "A1rH4HuhK2_M",
        "outputId": "6d38b290-46bb-4867-b42d-2efadc6f8cac"
      },
      "source": [
        "matriz = np.array([[1, 2, 4], [26, 27, 29], [11, 17, 18]])\n",
        "matriz"
      ],
      "execution_count": null,
      "outputs": [
        {
          "output_type": "execute_result",
          "data": {
            "text/plain": [
              "array([[ 1,  2,  4],\n",
              "       [26, 27, 29],\n",
              "       [11, 17, 18]])"
            ]
          },
          "metadata": {
            "tags": []
          },
          "execution_count": 83
        }
      ]
    },
    {
      "cell_type": "code",
      "metadata": {
        "colab": {
          "base_uri": "https://localhost:8080/"
        },
        "id": "bZVkGVvkK80U",
        "outputId": "5412c608-1639-45ba-8a18-7c87019f4728"
      },
      "source": [
        "matriz.T"
      ],
      "execution_count": null,
      "outputs": [
        {
          "output_type": "execute_result",
          "data": {
            "text/plain": [
              "array([[ 1, 26, 11],\n",
              "       [ 2, 27, 17],\n",
              "       [ 4, 29, 18]])"
            ]
          },
          "metadata": {
            "tags": []
          },
          "execution_count": 84
        }
      ]
    },
    {
      "cell_type": "code",
      "metadata": {
        "colab": {
          "base_uri": "https://localhost:8080/"
        },
        "id": "S_zpXwjIK-Bd",
        "outputId": "891ef2b4-94e6-4140-f091-3d055d14e483"
      },
      "source": [
        "matriz.shape"
      ],
      "execution_count": null,
      "outputs": [
        {
          "output_type": "execute_result",
          "data": {
            "text/plain": [
              "(3, 3)"
            ]
          },
          "metadata": {
            "tags": []
          },
          "execution_count": 85
        }
      ]
    },
    {
      "cell_type": "code",
      "metadata": {
        "colab": {
          "base_uri": "https://localhost:8080/"
        },
        "id": "KUUFPeevLBnU",
        "outputId": "ba441c3c-bcbc-4161-c394-9beb7fe4badc"
      },
      "source": [
        "vetor = matriz.ravel()\n",
        "vetor"
      ],
      "execution_count": null,
      "outputs": [
        {
          "output_type": "execute_result",
          "data": {
            "text/plain": [
              "array([ 1,  2,  4, 26, 27, 29, 11, 17, 18])"
            ]
          },
          "metadata": {
            "tags": []
          },
          "execution_count": 86
        }
      ]
    },
    {
      "cell_type": "code",
      "metadata": {
        "colab": {
          "base_uri": "https://localhost:8080/"
        },
        "id": "qDxg1U03LWgJ",
        "outputId": "1488a33f-cd3a-4579-e449-7f4589f45925"
      },
      "source": [
        "vetor.shape = (9, 1)\n",
        "vetor"
      ],
      "execution_count": null,
      "outputs": [
        {
          "output_type": "execute_result",
          "data": {
            "text/plain": [
              "array([[ 1],\n",
              "       [ 2],\n",
              "       [ 4],\n",
              "       [26],\n",
              "       [27],\n",
              "       [29],\n",
              "       [11],\n",
              "       [17],\n",
              "       [18]])"
            ]
          },
          "metadata": {
            "tags": []
          },
          "execution_count": 89
        }
      ]
    },
    {
      "cell_type": "code",
      "metadata": {
        "colab": {
          "base_uri": "https://localhost:8080/"
        },
        "id": "yJYCijG0LZ-h",
        "outputId": "58b3caab-c9e0-4766-a2e8-58ed42123187"
      },
      "source": [
        "vetor = np.array([1, 2, 3, 4, 5, 6, 7])\n",
        "vetor"
      ],
      "execution_count": null,
      "outputs": [
        {
          "output_type": "execute_result",
          "data": {
            "text/plain": [
              "array([1, 2, 3, 4, 5, 6, 7])"
            ]
          },
          "metadata": {
            "tags": []
          },
          "execution_count": 90
        }
      ]
    },
    {
      "cell_type": "code",
      "metadata": {
        "colab": {
          "base_uri": "https://localhost:8080/"
        },
        "id": "Sa-jYv12LnLg",
        "outputId": "27f86d4b-5358-463c-d8e1-6359bf8b7557"
      },
      "source": [
        "vetor.reshape(-1, 1)"
      ],
      "execution_count": null,
      "outputs": [
        {
          "output_type": "execute_result",
          "data": {
            "text/plain": [
              "array([[1],\n",
              "       [2],\n",
              "       [3],\n",
              "       [4],\n",
              "       [5],\n",
              "       [6],\n",
              "       [7]])"
            ]
          },
          "metadata": {
            "tags": []
          },
          "execution_count": 92
        }
      ]
    },
    {
      "cell_type": "code",
      "metadata": {
        "colab": {
          "base_uri": "https://localhost:8080/"
        },
        "id": "2aSMwkaVLqdw",
        "outputId": "64243b36-bdaa-43c7-db02-6c82027b243e"
      },
      "source": [
        "vetor2 = np.arange(1, 11)\n",
        "np.append(vetor, vetor2).reshape(-1, 1)"
      ],
      "execution_count": null,
      "outputs": [
        {
          "output_type": "execute_result",
          "data": {
            "text/plain": [
              "array([[ 1],\n",
              "       [ 2],\n",
              "       [ 3],\n",
              "       [ 4],\n",
              "       [ 5],\n",
              "       [ 6],\n",
              "       [ 7],\n",
              "       [ 1],\n",
              "       [ 2],\n",
              "       [ 3],\n",
              "       [ 4],\n",
              "       [ 5],\n",
              "       [ 6],\n",
              "       [ 7],\n",
              "       [ 8],\n",
              "       [ 9],\n",
              "       [10]])"
            ]
          },
          "metadata": {
            "tags": []
          },
          "execution_count": 94
        }
      ]
    },
    {
      "cell_type": "code",
      "metadata": {
        "colab": {
          "base_uri": "https://localhost:8080/"
        },
        "id": "EYoXmcU3MFZ-",
        "outputId": "b449fa03-3101-4b9f-969a-ca8061ad377f"
      },
      "source": [
        "np.insert(vetor, 0, 33)"
      ],
      "execution_count": null,
      "outputs": [
        {
          "output_type": "execute_result",
          "data": {
            "text/plain": [
              "array([33,  1,  2,  3,  4,  5,  6,  7])"
            ]
          },
          "metadata": {
            "tags": []
          },
          "execution_count": 96
        }
      ]
    },
    {
      "cell_type": "markdown",
      "metadata": {
        "id": "5_ApOYSZMkyi"
      },
      "source": [
        "# Random Numpy"
      ]
    },
    {
      "cell_type": "code",
      "metadata": {
        "colab": {
          "base_uri": "https://localhost:8080/"
        },
        "id": "F7zklLjIMmHU",
        "outputId": "acf5f7df-8a88-4e27-dde7-3e3a3804ad22"
      },
      "source": [
        "vetor = np.random.randint(1, 150, 30).reshape(-1, 1)\n",
        "vetor"
      ],
      "execution_count": null,
      "outputs": [
        {
          "output_type": "execute_result",
          "data": {
            "text/plain": [
              "array([[ 23],\n",
              "       [ 73],\n",
              "       [ 23],\n",
              "       [ 81],\n",
              "       [139],\n",
              "       [ 57],\n",
              "       [130],\n",
              "       [ 61],\n",
              "       [104],\n",
              "       [146],\n",
              "       [ 14],\n",
              "       [  7],\n",
              "       [ 24],\n",
              "       [118],\n",
              "       [  7],\n",
              "       [ 23],\n",
              "       [ 11],\n",
              "       [143],\n",
              "       [108],\n",
              "       [130],\n",
              "       [120],\n",
              "       [ 76],\n",
              "       [120],\n",
              "       [149],\n",
              "       [ 89],\n",
              "       [120],\n",
              "       [ 62],\n",
              "       [ 82],\n",
              "       [ 94],\n",
              "       [ 13]])"
            ]
          },
          "metadata": {
            "tags": []
          },
          "execution_count": 102
        }
      ]
    },
    {
      "cell_type": "code",
      "metadata": {
        "colab": {
          "base_uri": "https://localhost:8080/"
        },
        "id": "LEp4qMw0M91a",
        "outputId": "e1f7a118-5e1c-4e0e-c46e-4422fc0ac309"
      },
      "source": [
        "vetor.shape"
      ],
      "execution_count": null,
      "outputs": [
        {
          "output_type": "execute_result",
          "data": {
            "text/plain": [
              "(30, 1)"
            ]
          },
          "metadata": {
            "tags": []
          },
          "execution_count": 103
        }
      ]
    },
    {
      "cell_type": "code",
      "metadata": {
        "colab": {
          "base_uri": "https://localhost:8080/"
        },
        "id": "RUNSdvEONEa5",
        "outputId": "b8c3e4a6-e9a2-4a47-c1bd-7d8ae115f4ac"
      },
      "source": [
        "vetor.min()"
      ],
      "execution_count": null,
      "outputs": [
        {
          "output_type": "execute_result",
          "data": {
            "text/plain": [
              "7"
            ]
          },
          "metadata": {
            "tags": []
          },
          "execution_count": 104
        }
      ]
    },
    {
      "cell_type": "code",
      "metadata": {
        "colab": {
          "base_uri": "https://localhost:8080/"
        },
        "id": "GNQib-3GNE8A",
        "outputId": "cc87960a-a6fd-4eda-e8e6-517ee17b1590"
      },
      "source": [
        "vetor.max()"
      ],
      "execution_count": null,
      "outputs": [
        {
          "output_type": "execute_result",
          "data": {
            "text/plain": [
              "149"
            ]
          },
          "metadata": {
            "tags": []
          },
          "execution_count": 105
        }
      ]
    },
    {
      "cell_type": "code",
      "metadata": {
        "colab": {
          "base_uri": "https://localhost:8080/"
        },
        "id": "jtLLoY1KNGLp",
        "outputId": "175bbf66-acc8-40da-99f4-d1c615cc0eca"
      },
      "source": [
        "vetor.mean()"
      ],
      "execution_count": null,
      "outputs": [
        {
          "output_type": "execute_result",
          "data": {
            "text/plain": [
              "78.23333333333333"
            ]
          },
          "metadata": {
            "tags": []
          },
          "execution_count": 106
        }
      ]
    },
    {
      "cell_type": "code",
      "metadata": {
        "colab": {
          "base_uri": "https://localhost:8080/"
        },
        "id": "WfhPTGZCNHDh",
        "outputId": "ea5f6e2b-d5d4-4881-93fd-c489eb3a4c6e"
      },
      "source": [
        "vetor2 = np.random.randint(50, 2500, (100, 5))\n",
        "vetor2"
      ],
      "execution_count": null,
      "outputs": [
        {
          "output_type": "execute_result",
          "data": {
            "text/plain": [
              "array([[ 606,  287, 1749, 1099, 1086],\n",
              "       [1164, 2396, 2170, 1525, 1690],\n",
              "       [ 825, 1468, 2149, 2201, 1396],\n",
              "       [1100, 1284, 1452, 1652, 1756],\n",
              "       [1064,  424, 1204,  370,  419],\n",
              "       [1684, 1925,  634, 1993, 1074],\n",
              "       [1074, 2053, 1695,  882, 1580],\n",
              "       [1404,  795, 1194,  286, 2217],\n",
              "       [1634, 2206, 1051, 1902, 2458],\n",
              "       [1836,  278, 2321, 2081,  278],\n",
              "       [1535, 1267, 2281, 2345,  467],\n",
              "       [  96, 1891,  380, 2456,  159],\n",
              "       [2365, 1893,  363, 1280,  712],\n",
              "       [1232, 1412,  914,  368, 2004],\n",
              "       [1853, 1935,  392,  122, 1562],\n",
              "       [ 132,  300, 1000,  413, 1154],\n",
              "       [1654,  764,  153,  545,  949],\n",
              "       [ 792, 1818, 1404, 1896,  424],\n",
              "       [ 162,  725, 1642, 2066,  159],\n",
              "       [1141, 1577,  228, 1805, 1028],\n",
              "       [ 963, 1997, 1066, 1676,  863],\n",
              "       [ 759,  791,  527,  857, 1478],\n",
              "       [2263, 2350,  667,  841, 1214],\n",
              "       [ 634,   53, 1073, 1830,  451],\n",
              "       [ 237, 1276,  770,  603,  410],\n",
              "       [1835,  293, 1245,  759, 1764],\n",
              "       [1180, 1049, 1425, 2495, 2434],\n",
              "       [1763, 2126,  342, 1647, 2465],\n",
              "       [1967, 1525, 1481,  195,  408],\n",
              "       [ 165,  742,  958, 2372, 1504],\n",
              "       [ 371,  872,  740, 1573, 1542],\n",
              "       [ 817,  107,  865, 1517,  505],\n",
              "       [ 263, 1347, 2411,  422, 1897],\n",
              "       [2257,  659, 2348,  292, 2299],\n",
              "       [ 628, 2386,   55,  447,  465],\n",
              "       [1638,  500,  119, 1600, 2436],\n",
              "       [ 766,  360, 1266,  788,  198],\n",
              "       [2459, 2423, 2318,   75, 2222],\n",
              "       [ 546,  936,  219, 1269,   62],\n",
              "       [ 485,  145, 1621, 2183,  100],\n",
              "       [1996, 1731, 1424, 1601, 1788],\n",
              "       [1002, 1068, 2373, 1296, 2393],\n",
              "       [ 228,  306,  473, 1666, 1482],\n",
              "       [ 384,  144, 1108,  385,  719],\n",
              "       [1193,  530, 1085,  117, 2130],\n",
              "       [ 867, 1080, 1379, 2414, 2157],\n",
              "       [ 659,  431, 1451, 1829,  492],\n",
              "       [1142, 2313, 1055, 1373, 2363],\n",
              "       [1179,  802,  874, 1966, 1134],\n",
              "       [1933, 2078,  285, 2264, 1418],\n",
              "       [1440,  759, 1226,  969,  448],\n",
              "       [ 546, 1692,  706, 1754,  922],\n",
              "       [ 230,  629,  864, 1372,  689],\n",
              "       [ 412, 1334, 1201,  763, 1227],\n",
              "       [2496, 1290, 1313,  491, 2213],\n",
              "       [1262,  712, 1268, 1192, 1553],\n",
              "       [1077, 1856,  332, 2112,  266],\n",
              "       [ 964,  987, 1926, 1568, 1381],\n",
              "       [1310, 1846, 1844,  284, 2009],\n",
              "       [1064, 1308, 2121, 1562,   86],\n",
              "       [2402, 2343,   96,  466, 2403],\n",
              "       [2468, 1062, 1102, 1605, 1926],\n",
              "       [ 879, 2350,  471,   78, 1537],\n",
              "       [1784, 2093, 2327, 1135,  833],\n",
              "       [ 260, 1918, 1954, 1207,  306],\n",
              "       [1771,  773,  193, 2432,  200],\n",
              "       [2445, 1608, 1505, 1446,  168],\n",
              "       [2158, 1731, 1581, 1928, 1417],\n",
              "       [ 742,  778, 2231,  761, 1757],\n",
              "       [1327,  144, 2292,  282, 1469],\n",
              "       [1357, 1350,  942, 1690,   77],\n",
              "       [2276, 1165, 2455, 1015, 1251],\n",
              "       [1084, 2082,  182,  594,  417],\n",
              "       [1561, 1372,  266, 1185,  343],\n",
              "       [1088, 2436, 2079,  112, 2371],\n",
              "       [ 987,  811, 1136, 1771, 1796],\n",
              "       [ 575, 1546,  397,  396, 1859],\n",
              "       [2060,  482, 1430,   82,  515],\n",
              "       [ 771,  348,  947, 1542,  513],\n",
              "       [ 583, 1450, 1842,  997, 2258],\n",
              "       [1330,  812,  362, 1396, 1133],\n",
              "       [1972,  263,  615, 1575,  401],\n",
              "       [1147,   91, 1452, 1348,  159],\n",
              "       [1741, 1211, 1101, 2056,  617],\n",
              "       [2451,  731, 2313, 2174, 1703],\n",
              "       [ 595, 1508,  134, 2051, 1130],\n",
              "       [ 774, 1822,  191, 1193, 1396],\n",
              "       [1231, 1324, 1819,  307,  938],\n",
              "       [ 711, 2464, 2470, 2472,  441],\n",
              "       [2016, 2192,  180,  664,   78],\n",
              "       [1096,  830, 2287, 2149, 2233],\n",
              "       [2128,  259, 2180, 1404, 1248],\n",
              "       [2282, 1307, 1123,  703, 1619],\n",
              "       [ 645, 1877,  207, 2067,  545],\n",
              "       [1297, 1673,  436,  636, 1387],\n",
              "       [ 197,  500, 1778,  505,  196],\n",
              "       [ 867, 1778, 1757,  672, 1915],\n",
              "       [1814, 1782,  635, 1677, 1680],\n",
              "       [1185,  584, 2410, 1774, 1334],\n",
              "       [1102,  632, 2106, 1891, 1456]])"
            ]
          },
          "metadata": {
            "tags": []
          },
          "execution_count": 110
        }
      ]
    },
    {
      "cell_type": "code",
      "metadata": {
        "colab": {
          "base_uri": "https://localhost:8080/",
          "height": 419
        },
        "id": "uUneyRsQNqnF",
        "outputId": "a9949250-6040-4e6b-985a-ef2ba44be1a6"
      },
      "source": [
        "df = pd.DataFrame(vetor2, columns=list('ABCDE'), index=range(1, len(vetor2)+1))\n",
        "df"
      ],
      "execution_count": null,
      "outputs": [
        {
          "output_type": "execute_result",
          "data": {
            "text/html": [
              "<div>\n",
              "<style scoped>\n",
              "    .dataframe tbody tr th:only-of-type {\n",
              "        vertical-align: middle;\n",
              "    }\n",
              "\n",
              "    .dataframe tbody tr th {\n",
              "        vertical-align: top;\n",
              "    }\n",
              "\n",
              "    .dataframe thead th {\n",
              "        text-align: right;\n",
              "    }\n",
              "</style>\n",
              "<table border=\"1\" class=\"dataframe\">\n",
              "  <thead>\n",
              "    <tr style=\"text-align: right;\">\n",
              "      <th></th>\n",
              "      <th>A</th>\n",
              "      <th>B</th>\n",
              "      <th>C</th>\n",
              "      <th>D</th>\n",
              "      <th>E</th>\n",
              "    </tr>\n",
              "  </thead>\n",
              "  <tbody>\n",
              "    <tr>\n",
              "      <th>1</th>\n",
              "      <td>606</td>\n",
              "      <td>287</td>\n",
              "      <td>1749</td>\n",
              "      <td>1099</td>\n",
              "      <td>1086</td>\n",
              "    </tr>\n",
              "    <tr>\n",
              "      <th>2</th>\n",
              "      <td>1164</td>\n",
              "      <td>2396</td>\n",
              "      <td>2170</td>\n",
              "      <td>1525</td>\n",
              "      <td>1690</td>\n",
              "    </tr>\n",
              "    <tr>\n",
              "      <th>3</th>\n",
              "      <td>825</td>\n",
              "      <td>1468</td>\n",
              "      <td>2149</td>\n",
              "      <td>2201</td>\n",
              "      <td>1396</td>\n",
              "    </tr>\n",
              "    <tr>\n",
              "      <th>4</th>\n",
              "      <td>1100</td>\n",
              "      <td>1284</td>\n",
              "      <td>1452</td>\n",
              "      <td>1652</td>\n",
              "      <td>1756</td>\n",
              "    </tr>\n",
              "    <tr>\n",
              "      <th>5</th>\n",
              "      <td>1064</td>\n",
              "      <td>424</td>\n",
              "      <td>1204</td>\n",
              "      <td>370</td>\n",
              "      <td>419</td>\n",
              "    </tr>\n",
              "    <tr>\n",
              "      <th>...</th>\n",
              "      <td>...</td>\n",
              "      <td>...</td>\n",
              "      <td>...</td>\n",
              "      <td>...</td>\n",
              "      <td>...</td>\n",
              "    </tr>\n",
              "    <tr>\n",
              "      <th>96</th>\n",
              "      <td>197</td>\n",
              "      <td>500</td>\n",
              "      <td>1778</td>\n",
              "      <td>505</td>\n",
              "      <td>196</td>\n",
              "    </tr>\n",
              "    <tr>\n",
              "      <th>97</th>\n",
              "      <td>867</td>\n",
              "      <td>1778</td>\n",
              "      <td>1757</td>\n",
              "      <td>672</td>\n",
              "      <td>1915</td>\n",
              "    </tr>\n",
              "    <tr>\n",
              "      <th>98</th>\n",
              "      <td>1814</td>\n",
              "      <td>1782</td>\n",
              "      <td>635</td>\n",
              "      <td>1677</td>\n",
              "      <td>1680</td>\n",
              "    </tr>\n",
              "    <tr>\n",
              "      <th>99</th>\n",
              "      <td>1185</td>\n",
              "      <td>584</td>\n",
              "      <td>2410</td>\n",
              "      <td>1774</td>\n",
              "      <td>1334</td>\n",
              "    </tr>\n",
              "    <tr>\n",
              "      <th>100</th>\n",
              "      <td>1102</td>\n",
              "      <td>632</td>\n",
              "      <td>2106</td>\n",
              "      <td>1891</td>\n",
              "      <td>1456</td>\n",
              "    </tr>\n",
              "  </tbody>\n",
              "</table>\n",
              "<p>100 rows × 5 columns</p>\n",
              "</div>"
            ],
            "text/plain": [
              "        A     B     C     D     E\n",
              "1     606   287  1749  1099  1086\n",
              "2    1164  2396  2170  1525  1690\n",
              "3     825  1468  2149  2201  1396\n",
              "4    1100  1284  1452  1652  1756\n",
              "5    1064   424  1204   370   419\n",
              "..    ...   ...   ...   ...   ...\n",
              "96    197   500  1778   505   196\n",
              "97    867  1778  1757   672  1915\n",
              "98   1814  1782   635  1677  1680\n",
              "99   1185   584  2410  1774  1334\n",
              "100  1102   632  2106  1891  1456\n",
              "\n",
              "[100 rows x 5 columns]"
            ]
          },
          "metadata": {
            "tags": []
          },
          "execution_count": 117
        }
      ]
    },
    {
      "cell_type": "code",
      "metadata": {
        "colab": {
          "base_uri": "https://localhost:8080/",
          "height": 309
        },
        "id": "fYnQNTonNye1",
        "outputId": "628b0db3-5959-43f1-ec72-de24bb75d872"
      },
      "source": [
        "plt.figure(figsize = (12, 4))\n",
        "df['A'].plot(color='black', linewidth=1.2, marker='o', markersize=3)\n",
        "plt.xlabel('Eixo X')\n",
        "plt.ylabel('Eixo Y')\n",
        "plt.title('Series', fontsize=20, pad=15)\n",
        "plt.grid(alpha = 0.5, linestyle = '--')"
      ],
      "execution_count": null,
      "outputs": [
        {
          "output_type": "display_data",
          "data": {
            "image/png": "[encoded data removed]",
            "text/plain": [
              "<Figure size 864x288 with 1 Axes>"
            ]
          },
          "metadata": {
            "tags": [],
            "needs_background": "light"
          }
        }
      ]
    },
    {
      "cell_type": "code",
      "metadata": {
        "id": "IMuzDp_8OhH6"
      },
      "source": [
        ""
      ],
      "execution_count": null,
      "outputs": []
    }
  ]
}